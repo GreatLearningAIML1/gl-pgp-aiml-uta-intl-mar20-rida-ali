{
 "cells": [
  {
   "cell_type": "markdown",
   "metadata": {},
   "source": [
    "## Bank Churn Prediction\n",
    "\n",
    "**Objective:**\n",
    "\n",
    "Given a Bank customer, build a neural network based classifier that can determine whether they will leave or not in the next 6 months.\n",
    "\n",
    "\n",
    "**Context:**\n",
    "Businesses like banks which provide service have to worry about problem of 'Churn' i.e. customers leaving and joining another service provider. It is important to understand which aspects of the service influence a customer's decision in this regard. Management can concentrate efforts on improvement of service, keeping in mind these priorities.\n",
    "\n",
    "**Data Description:**\n",
    "The case study is from an open-source dataset from Kaggle.\n",
    "The dataset contains 10,000 sample points with 14 distinct features such as CustomerId, CreditScore, Geography, Gender, Age, Tenure, Balance etc.\n",
    "\n",
    "Link to the [Kaggle project](https://www.kaggle.com/barelydedicated/bank-customer-churn-modeling) site.\n",
    "\n",
    "\n",
    "**Points Distribution:**\n",
    "The points distribution for this case is as follows:\n",
    "1. Read the dataset\n",
    "2. Drop the columns which are unique for all users like IDs (5 points)\n",
    "3. Distinguish the features and target variable (5 points)\n",
    "4. Divide the data set into training and test sets (5 points)\n",
    "5. Normalize the train and test data (10 points)\n",
    "6. Initialize & build the model. Identify the points of improvement and implement the same the same.(20) \n",
    "7. Predict the results using 0.5 as a threshold (10 points)\n",
    "8. Print the Accuracy score and confusion matrix (5 points)"
   ]
  },
  {
   "cell_type": "markdown",
   "metadata": {},
   "source": [
    "### Load Libraries"
   ]
  },
  {
   "cell_type": "code",
   "execution_count": 1,
   "metadata": {},
   "outputs": [
    {
     "name": "stderr",
     "output_type": "stream",
     "text": [
      "In /opt/anaconda3/lib/python3.7/site-packages/matplotlib/mpl-data/stylelib/_classic_test.mplstyle: \n",
      "The text.latex.preview rcparam was deprecated in Matplotlib 3.3 and will be removed two minor releases later.\n",
      "In /opt/anaconda3/lib/python3.7/site-packages/matplotlib/mpl-data/stylelib/_classic_test.mplstyle: \n",
      "The mathtext.fallback_to_cm rcparam was deprecated in Matplotlib 3.3 and will be removed two minor releases later.\n",
      "In /opt/anaconda3/lib/python3.7/site-packages/matplotlib/mpl-data/stylelib/_classic_test.mplstyle: Support for setting the 'mathtext.fallback_to_cm' rcParam is deprecated since 3.3 and will be removed two minor releases later; use 'mathtext.fallback : 'cm' instead.\n",
      "In /opt/anaconda3/lib/python3.7/site-packages/matplotlib/mpl-data/stylelib/_classic_test.mplstyle: \n",
      "The validate_bool_maybe_none function was deprecated in Matplotlib 3.3 and will be removed two minor releases later.\n",
      "In /opt/anaconda3/lib/python3.7/site-packages/matplotlib/mpl-data/stylelib/_classic_test.mplstyle: \n",
      "The savefig.jpeg_quality rcparam was deprecated in Matplotlib 3.3 and will be removed two minor releases later.\n",
      "In /opt/anaconda3/lib/python3.7/site-packages/matplotlib/mpl-data/stylelib/_classic_test.mplstyle: \n",
      "The keymap.all_axes rcparam was deprecated in Matplotlib 3.3 and will be removed two minor releases later.\n",
      "In /opt/anaconda3/lib/python3.7/site-packages/matplotlib/mpl-data/stylelib/_classic_test.mplstyle: \n",
      "The animation.avconv_path rcparam was deprecated in Matplotlib 3.3 and will be removed two minor releases later.\n",
      "In /opt/anaconda3/lib/python3.7/site-packages/matplotlib/mpl-data/stylelib/_classic_test.mplstyle: \n",
      "The animation.avconv_args rcparam was deprecated in Matplotlib 3.3 and will be removed two minor releases later.\n",
      "Using TensorFlow backend.\n"
     ]
    }
   ],
   "source": [
    "import pandas as pd\n",
    "import numpy as np\n",
    "import seaborn as sns\n",
    "import matplotlib.pyplot as plt\n",
    "\n",
    "from sklearn import preprocessing\n",
    "from sklearn.preprocessing import StandardScaler\n",
    "from sklearn.model_selection import train_test_split\n",
    "\n",
    "import tensorflow as tf\n",
    "from keras import initializers\n",
    "from tensorflow.keras.models import Sequential\n",
    "from tensorflow.keras.layers import Dense, Dropout, BatchNormalization\n",
    "from tensorflow.keras import Input, optimizers\n",
    "from sklearn.metrics import accuracy_score, confusion_matrix, precision_score, recall_score, f1_score, precision_recall_curve, auc"
   ]
  },
  {
   "cell_type": "code",
   "execution_count": 2,
   "metadata": {},
   "outputs": [
    {
     "name": "stdout",
     "output_type": "stream",
     "text": [
      "2.3.0\n"
     ]
    }
   ],
   "source": [
    "print(tf.__version__)"
   ]
  },
  {
   "cell_type": "markdown",
   "metadata": {},
   "source": [
    "### 1. Read the dataset"
   ]
  },
  {
   "cell_type": "code",
   "execution_count": 3,
   "metadata": {},
   "outputs": [],
   "source": [
    "data = pd.read_csv('bank.csv')"
   ]
  },
  {
   "cell_type": "code",
   "execution_count": 4,
   "metadata": {},
   "outputs": [
    {
     "data": {
      "text/plain": [
       "(10000, 14)"
      ]
     },
     "execution_count": 4,
     "metadata": {},
     "output_type": "execute_result"
    }
   ],
   "source": [
    "data.shape"
   ]
  },
  {
   "cell_type": "code",
   "execution_count": 5,
   "metadata": {},
   "outputs": [
    {
     "data": {
      "text/html": [
       "<div>\n",
       "<style scoped>\n",
       "    .dataframe tbody tr th:only-of-type {\n",
       "        vertical-align: middle;\n",
       "    }\n",
       "\n",
       "    .dataframe tbody tr th {\n",
       "        vertical-align: top;\n",
       "    }\n",
       "\n",
       "    .dataframe thead th {\n",
       "        text-align: right;\n",
       "    }\n",
       "</style>\n",
       "<table border=\"1\" class=\"dataframe\">\n",
       "  <thead>\n",
       "    <tr style=\"text-align: right;\">\n",
       "      <th></th>\n",
       "      <th>RowNumber</th>\n",
       "      <th>CustomerId</th>\n",
       "      <th>Surname</th>\n",
       "      <th>CreditScore</th>\n",
       "      <th>Geography</th>\n",
       "      <th>Gender</th>\n",
       "      <th>Age</th>\n",
       "      <th>Tenure</th>\n",
       "      <th>Balance</th>\n",
       "      <th>NumOfProducts</th>\n",
       "      <th>HasCrCard</th>\n",
       "      <th>IsActiveMember</th>\n",
       "      <th>EstimatedSalary</th>\n",
       "      <th>Exited</th>\n",
       "    </tr>\n",
       "  </thead>\n",
       "  <tbody>\n",
       "    <tr>\n",
       "      <th>0</th>\n",
       "      <td>1</td>\n",
       "      <td>15634602</td>\n",
       "      <td>Hargrave</td>\n",
       "      <td>619</td>\n",
       "      <td>France</td>\n",
       "      <td>Female</td>\n",
       "      <td>42</td>\n",
       "      <td>2</td>\n",
       "      <td>0.00</td>\n",
       "      <td>1</td>\n",
       "      <td>1</td>\n",
       "      <td>1</td>\n",
       "      <td>101348.88</td>\n",
       "      <td>1</td>\n",
       "    </tr>\n",
       "    <tr>\n",
       "      <th>1</th>\n",
       "      <td>2</td>\n",
       "      <td>15647311</td>\n",
       "      <td>Hill</td>\n",
       "      <td>608</td>\n",
       "      <td>Spain</td>\n",
       "      <td>Female</td>\n",
       "      <td>41</td>\n",
       "      <td>1</td>\n",
       "      <td>83807.86</td>\n",
       "      <td>1</td>\n",
       "      <td>0</td>\n",
       "      <td>1</td>\n",
       "      <td>112542.58</td>\n",
       "      <td>0</td>\n",
       "    </tr>\n",
       "    <tr>\n",
       "      <th>2</th>\n",
       "      <td>3</td>\n",
       "      <td>15619304</td>\n",
       "      <td>Onio</td>\n",
       "      <td>502</td>\n",
       "      <td>France</td>\n",
       "      <td>Female</td>\n",
       "      <td>42</td>\n",
       "      <td>8</td>\n",
       "      <td>159660.80</td>\n",
       "      <td>3</td>\n",
       "      <td>1</td>\n",
       "      <td>0</td>\n",
       "      <td>113931.57</td>\n",
       "      <td>1</td>\n",
       "    </tr>\n",
       "    <tr>\n",
       "      <th>3</th>\n",
       "      <td>4</td>\n",
       "      <td>15701354</td>\n",
       "      <td>Boni</td>\n",
       "      <td>699</td>\n",
       "      <td>France</td>\n",
       "      <td>Female</td>\n",
       "      <td>39</td>\n",
       "      <td>1</td>\n",
       "      <td>0.00</td>\n",
       "      <td>2</td>\n",
       "      <td>0</td>\n",
       "      <td>0</td>\n",
       "      <td>93826.63</td>\n",
       "      <td>0</td>\n",
       "    </tr>\n",
       "    <tr>\n",
       "      <th>4</th>\n",
       "      <td>5</td>\n",
       "      <td>15737888</td>\n",
       "      <td>Mitchell</td>\n",
       "      <td>850</td>\n",
       "      <td>Spain</td>\n",
       "      <td>Female</td>\n",
       "      <td>43</td>\n",
       "      <td>2</td>\n",
       "      <td>125510.82</td>\n",
       "      <td>1</td>\n",
       "      <td>1</td>\n",
       "      <td>1</td>\n",
       "      <td>79084.10</td>\n",
       "      <td>0</td>\n",
       "    </tr>\n",
       "  </tbody>\n",
       "</table>\n",
       "</div>"
      ],
      "text/plain": [
       "   RowNumber  CustomerId   Surname  CreditScore Geography  Gender  Age  \\\n",
       "0          1    15634602  Hargrave          619    France  Female   42   \n",
       "1          2    15647311      Hill          608     Spain  Female   41   \n",
       "2          3    15619304      Onio          502    France  Female   42   \n",
       "3          4    15701354      Boni          699    France  Female   39   \n",
       "4          5    15737888  Mitchell          850     Spain  Female   43   \n",
       "\n",
       "   Tenure    Balance  NumOfProducts  HasCrCard  IsActiveMember  \\\n",
       "0       2       0.00              1          1               1   \n",
       "1       1   83807.86              1          0               1   \n",
       "2       8  159660.80              3          1               0   \n",
       "3       1       0.00              2          0               0   \n",
       "4       2  125510.82              1          1               1   \n",
       "\n",
       "   EstimatedSalary  Exited  \n",
       "0        101348.88       1  \n",
       "1        112542.58       0  \n",
       "2        113931.57       1  \n",
       "3         93826.63       0  \n",
       "4         79084.10       0  "
      ]
     },
     "execution_count": 5,
     "metadata": {},
     "output_type": "execute_result"
    }
   ],
   "source": [
    "data.head()"
   ]
  },
  {
   "cell_type": "code",
   "execution_count": 6,
   "metadata": {},
   "outputs": [
    {
     "name": "stdout",
     "output_type": "stream",
     "text": [
      "<class 'pandas.core.frame.DataFrame'>\n",
      "RangeIndex: 10000 entries, 0 to 9999\n",
      "Data columns (total 14 columns):\n",
      " #   Column           Non-Null Count  Dtype  \n",
      "---  ------           --------------  -----  \n",
      " 0   RowNumber        10000 non-null  int64  \n",
      " 1   CustomerId       10000 non-null  int64  \n",
      " 2   Surname          10000 non-null  object \n",
      " 3   CreditScore      10000 non-null  int64  \n",
      " 4   Geography        10000 non-null  object \n",
      " 5   Gender           10000 non-null  object \n",
      " 6   Age              10000 non-null  int64  \n",
      " 7   Tenure           10000 non-null  int64  \n",
      " 8   Balance          10000 non-null  float64\n",
      " 9   NumOfProducts    10000 non-null  int64  \n",
      " 10  HasCrCard        10000 non-null  int64  \n",
      " 11  IsActiveMember   10000 non-null  int64  \n",
      " 12  EstimatedSalary  10000 non-null  float64\n",
      " 13  Exited           10000 non-null  int64  \n",
      "dtypes: float64(2), int64(9), object(3)\n",
      "memory usage: 1.1+ MB\n"
     ]
    }
   ],
   "source": [
    "data.info()"
   ]
  },
  {
   "cell_type": "code",
   "execution_count": 7,
   "metadata": {},
   "outputs": [
    {
     "data": {
      "text/plain": [
       "RowNumber          0\n",
       "CustomerId         0\n",
       "Surname            0\n",
       "CreditScore        0\n",
       "Geography          0\n",
       "Gender             0\n",
       "Age                0\n",
       "Tenure             0\n",
       "Balance            0\n",
       "NumOfProducts      0\n",
       "HasCrCard          0\n",
       "IsActiveMember     0\n",
       "EstimatedSalary    0\n",
       "Exited             0\n",
       "dtype: int64"
      ]
     },
     "execution_count": 7,
     "metadata": {},
     "output_type": "execute_result"
    }
   ],
   "source": [
    "data.isnull().sum()"
   ]
  },
  {
   "cell_type": "markdown",
   "metadata": {},
   "source": [
    "### 2. Feature Elimination\n",
    "Drop the columns which are unique for all users like IDs (5 points)"
   ]
  },
  {
   "cell_type": "code",
   "execution_count": 8,
   "metadata": {},
   "outputs": [
    {
     "data": {
      "text/html": [
       "<div>\n",
       "<style scoped>\n",
       "    .dataframe tbody tr th:only-of-type {\n",
       "        vertical-align: middle;\n",
       "    }\n",
       "\n",
       "    .dataframe tbody tr th {\n",
       "        vertical-align: top;\n",
       "    }\n",
       "\n",
       "    .dataframe thead th {\n",
       "        text-align: right;\n",
       "    }\n",
       "</style>\n",
       "<table border=\"1\" class=\"dataframe\">\n",
       "  <thead>\n",
       "    <tr style=\"text-align: right;\">\n",
       "      <th></th>\n",
       "      <th>CreditScore</th>\n",
       "      <th>Geography</th>\n",
       "      <th>Gender</th>\n",
       "      <th>Age</th>\n",
       "      <th>Tenure</th>\n",
       "      <th>Balance</th>\n",
       "      <th>NumOfProducts</th>\n",
       "      <th>HasCrCard</th>\n",
       "      <th>IsActiveMember</th>\n",
       "      <th>EstimatedSalary</th>\n",
       "      <th>Exited</th>\n",
       "    </tr>\n",
       "  </thead>\n",
       "  <tbody>\n",
       "    <tr>\n",
       "      <th>0</th>\n",
       "      <td>619</td>\n",
       "      <td>France</td>\n",
       "      <td>Female</td>\n",
       "      <td>42</td>\n",
       "      <td>2</td>\n",
       "      <td>0.00</td>\n",
       "      <td>1</td>\n",
       "      <td>1</td>\n",
       "      <td>1</td>\n",
       "      <td>101348.88</td>\n",
       "      <td>1</td>\n",
       "    </tr>\n",
       "    <tr>\n",
       "      <th>1</th>\n",
       "      <td>608</td>\n",
       "      <td>Spain</td>\n",
       "      <td>Female</td>\n",
       "      <td>41</td>\n",
       "      <td>1</td>\n",
       "      <td>83807.86</td>\n",
       "      <td>1</td>\n",
       "      <td>0</td>\n",
       "      <td>1</td>\n",
       "      <td>112542.58</td>\n",
       "      <td>0</td>\n",
       "    </tr>\n",
       "    <tr>\n",
       "      <th>2</th>\n",
       "      <td>502</td>\n",
       "      <td>France</td>\n",
       "      <td>Female</td>\n",
       "      <td>42</td>\n",
       "      <td>8</td>\n",
       "      <td>159660.80</td>\n",
       "      <td>3</td>\n",
       "      <td>1</td>\n",
       "      <td>0</td>\n",
       "      <td>113931.57</td>\n",
       "      <td>1</td>\n",
       "    </tr>\n",
       "    <tr>\n",
       "      <th>3</th>\n",
       "      <td>699</td>\n",
       "      <td>France</td>\n",
       "      <td>Female</td>\n",
       "      <td>39</td>\n",
       "      <td>1</td>\n",
       "      <td>0.00</td>\n",
       "      <td>2</td>\n",
       "      <td>0</td>\n",
       "      <td>0</td>\n",
       "      <td>93826.63</td>\n",
       "      <td>0</td>\n",
       "    </tr>\n",
       "    <tr>\n",
       "      <th>4</th>\n",
       "      <td>850</td>\n",
       "      <td>Spain</td>\n",
       "      <td>Female</td>\n",
       "      <td>43</td>\n",
       "      <td>2</td>\n",
       "      <td>125510.82</td>\n",
       "      <td>1</td>\n",
       "      <td>1</td>\n",
       "      <td>1</td>\n",
       "      <td>79084.10</td>\n",
       "      <td>0</td>\n",
       "    </tr>\n",
       "    <tr>\n",
       "      <th>...</th>\n",
       "      <td>...</td>\n",
       "      <td>...</td>\n",
       "      <td>...</td>\n",
       "      <td>...</td>\n",
       "      <td>...</td>\n",
       "      <td>...</td>\n",
       "      <td>...</td>\n",
       "      <td>...</td>\n",
       "      <td>...</td>\n",
       "      <td>...</td>\n",
       "      <td>...</td>\n",
       "    </tr>\n",
       "    <tr>\n",
       "      <th>9995</th>\n",
       "      <td>771</td>\n",
       "      <td>France</td>\n",
       "      <td>Male</td>\n",
       "      <td>39</td>\n",
       "      <td>5</td>\n",
       "      <td>0.00</td>\n",
       "      <td>2</td>\n",
       "      <td>1</td>\n",
       "      <td>0</td>\n",
       "      <td>96270.64</td>\n",
       "      <td>0</td>\n",
       "    </tr>\n",
       "    <tr>\n",
       "      <th>9996</th>\n",
       "      <td>516</td>\n",
       "      <td>France</td>\n",
       "      <td>Male</td>\n",
       "      <td>35</td>\n",
       "      <td>10</td>\n",
       "      <td>57369.61</td>\n",
       "      <td>1</td>\n",
       "      <td>1</td>\n",
       "      <td>1</td>\n",
       "      <td>101699.77</td>\n",
       "      <td>0</td>\n",
       "    </tr>\n",
       "    <tr>\n",
       "      <th>9997</th>\n",
       "      <td>709</td>\n",
       "      <td>France</td>\n",
       "      <td>Female</td>\n",
       "      <td>36</td>\n",
       "      <td>7</td>\n",
       "      <td>0.00</td>\n",
       "      <td>1</td>\n",
       "      <td>0</td>\n",
       "      <td>1</td>\n",
       "      <td>42085.58</td>\n",
       "      <td>1</td>\n",
       "    </tr>\n",
       "    <tr>\n",
       "      <th>9998</th>\n",
       "      <td>772</td>\n",
       "      <td>Germany</td>\n",
       "      <td>Male</td>\n",
       "      <td>42</td>\n",
       "      <td>3</td>\n",
       "      <td>75075.31</td>\n",
       "      <td>2</td>\n",
       "      <td>1</td>\n",
       "      <td>0</td>\n",
       "      <td>92888.52</td>\n",
       "      <td>1</td>\n",
       "    </tr>\n",
       "    <tr>\n",
       "      <th>9999</th>\n",
       "      <td>792</td>\n",
       "      <td>France</td>\n",
       "      <td>Female</td>\n",
       "      <td>28</td>\n",
       "      <td>4</td>\n",
       "      <td>130142.79</td>\n",
       "      <td>1</td>\n",
       "      <td>1</td>\n",
       "      <td>0</td>\n",
       "      <td>38190.78</td>\n",
       "      <td>0</td>\n",
       "    </tr>\n",
       "  </tbody>\n",
       "</table>\n",
       "<p>10000 rows × 11 columns</p>\n",
       "</div>"
      ],
      "text/plain": [
       "      CreditScore Geography  Gender  Age  Tenure    Balance  NumOfProducts  \\\n",
       "0             619    France  Female   42       2       0.00              1   \n",
       "1             608     Spain  Female   41       1   83807.86              1   \n",
       "2             502    France  Female   42       8  159660.80              3   \n",
       "3             699    France  Female   39       1       0.00              2   \n",
       "4             850     Spain  Female   43       2  125510.82              1   \n",
       "...           ...       ...     ...  ...     ...        ...            ...   \n",
       "9995          771    France    Male   39       5       0.00              2   \n",
       "9996          516    France    Male   35      10   57369.61              1   \n",
       "9997          709    France  Female   36       7       0.00              1   \n",
       "9998          772   Germany    Male   42       3   75075.31              2   \n",
       "9999          792    France  Female   28       4  130142.79              1   \n",
       "\n",
       "      HasCrCard  IsActiveMember  EstimatedSalary  Exited  \n",
       "0             1               1        101348.88       1  \n",
       "1             0               1        112542.58       0  \n",
       "2             1               0        113931.57       1  \n",
       "3             0               0         93826.63       0  \n",
       "4             1               1         79084.10       0  \n",
       "...         ...             ...              ...     ...  \n",
       "9995          1               0         96270.64       0  \n",
       "9996          1               1        101699.77       0  \n",
       "9997          0               1         42085.58       1  \n",
       "9998          1               0         92888.52       1  \n",
       "9999          1               0         38190.78       0  \n",
       "\n",
       "[10000 rows x 11 columns]"
      ]
     },
     "execution_count": 8,
     "metadata": {},
     "output_type": "execute_result"
    }
   ],
   "source": [
    "# Dropping RowNumber, CustomerId, and Surname and keeping columns from Credit Score to Exited\n",
    "data = data.iloc[:,3:]\n",
    "data"
   ]
  },
  {
   "cell_type": "markdown",
   "metadata": {},
   "source": [
    "### 3. Bivariate Analysis"
   ]
  },
  {
   "cell_type": "code",
   "execution_count": 9,
   "metadata": {},
   "outputs": [
    {
     "data": {
      "image/png": "[encoded data removed]",
      "text/plain": [
       "<Figure size 432x288 with 1 Axes>"
      ]
     },
     "metadata": {
      "needs_background": "light"
     },
     "output_type": "display_data"
    }
   ],
   "source": [
    "# Customers distribution by Geography\n",
    "sns.countplot(x=\"Geography\", data=data);"
   ]
  },
  {
   "cell_type": "code",
   "execution_count": 10,
   "metadata": {},
   "outputs": [
    {
     "data": {
      "image/png": "[encoded data removed]",
      "text/plain": [
       "<Figure size 432x288 with 1 Axes>"
      ]
     },
     "metadata": {
      "needs_background": "light"
     },
     "output_type": "display_data"
    }
   ],
   "source": [
    "# Customers distribution by Gender\n",
    "sns.countplot(x=\"Gender\", data=data);"
   ]
  },
  {
   "cell_type": "code",
   "execution_count": 11,
   "metadata": {},
   "outputs": [
    {
     "data": {
      "image/png": "[encoded data removed]",
      "text/plain": [
       "<Figure size 432x288 with 1 Axes>"
      ]
     },
     "metadata": {
      "needs_background": "light"
     },
     "output_type": "display_data"
    }
   ],
   "source": [
    "# Distribution of churn\n",
    "sns.countplot(x=\"Exited\", data=data);"
   ]
  },
  {
   "cell_type": "code",
   "execution_count": 12,
   "metadata": {},
   "outputs": [
    {
     "data": {
      "image/png": "[encoded data removed]",
      "text/plain": [
       "<Figure size 432x288 with 1 Axes>"
      ]
     },
     "metadata": {
      "needs_background": "light"
     },
     "output_type": "display_data"
    }
   ],
   "source": [
    "# Distribution of churn by Gender\n",
    "sns.countplot(x=\"Exited\", hue=\"Gender\", data=data);"
   ]
  },
  {
   "cell_type": "code",
   "execution_count": 13,
   "metadata": {},
   "outputs": [
    {
     "data": {
      "image/png": "[encoded data removed]",
      "text/plain": [
       "<Figure size 432x288 with 1 Axes>"
      ]
     },
     "metadata": {
      "needs_background": "light"
     },
     "output_type": "display_data"
    }
   ],
   "source": [
    "# Distribution of churn by Geography\n",
    "sns.countplot(x=\"Geography\", hue=\"Exited\", data=data);"
   ]
  },
  {
   "cell_type": "code",
   "execution_count": 14,
   "metadata": {},
   "outputs": [
    {
     "data": {
      "image/png": "[encoded data removed]",
      "text/plain": [
       "<Figure size 1440x720 with 1 Axes>"
      ]
     },
     "metadata": {
      "needs_background": "light"
     },
     "output_type": "display_data"
    }
   ],
   "source": [
    "# Distribution of churn by Age\n",
    "plt.figure(figsize=(20,10))\n",
    "sns.distplot(data['Age'][data['Exited']==0], color='green', label='non-exited')\n",
    "sns.distplot(data['Age'][data['Exited']==1], color='red', label='exited')\n",
    "\n",
    "plt.legend();"
   ]
  },
  {
   "cell_type": "code",
   "execution_count": 15,
   "metadata": {},
   "outputs": [
    {
     "data": {
      "image/png": "[encoded data removed]",
      "text/plain": [
       "<Figure size 432x288 with 1 Axes>"
      ]
     },
     "metadata": {
      "needs_background": "light"
     },
     "output_type": "display_data"
    }
   ],
   "source": [
    "# Distribution of churn by Tenure\n",
    "sns.countplot(x=\"Tenure\", hue=\"Exited\", data=data);"
   ]
  },
  {
   "cell_type": "code",
   "execution_count": 16,
   "metadata": {},
   "outputs": [
    {
     "data": {
      "image/png": "[encoded data removed]",
      "text/plain": [
       "<Figure size 432x288 with 1 Axes>"
      ]
     },
     "metadata": {
      "needs_background": "light"
     },
     "output_type": "display_data"
    }
   ],
   "source": [
    "# Distribution of churn by HasCrCard\n",
    "sns.countplot(x=\"Exited\", hue=\"HasCrCard\", data=data);"
   ]
  },
  {
   "cell_type": "code",
   "execution_count": 17,
   "metadata": {},
   "outputs": [
    {
     "data": {
      "image/png": "[encoded data removed]",
      "text/plain": [
       "<Figure size 432x288 with 1 Axes>"
      ]
     },
     "metadata": {
      "needs_background": "light"
     },
     "output_type": "display_data"
    }
   ],
   "source": [
    "# Distribution of churn by IsActiveMember\n",
    "sns.countplot(x=\"Exited\", hue=\"IsActiveMember\", data=data);"
   ]
  },
  {
   "cell_type": "code",
   "execution_count": 18,
   "metadata": {},
   "outputs": [
    {
     "data": {
      "image/png": "[encoded data removed]",
      "text/plain": [
       "<Figure size 432x288 with 1 Axes>"
      ]
     },
     "metadata": {
      "needs_background": "light"
     },
     "output_type": "display_data"
    }
   ],
   "source": [
    "# Distribution of churn by IsActiveMember\n",
    "sns.countplot(x=\"NumOfProducts\", hue=\"Exited\", data=data);"
   ]
  },
  {
   "cell_type": "code",
   "execution_count": 19,
   "metadata": {},
   "outputs": [
    {
     "data": {
      "image/png": "[encoded data removed]",
      "text/plain": [
       "<Figure size 1440x720 with 1 Axes>"
      ]
     },
     "metadata": {
      "needs_background": "light"
     },
     "output_type": "display_data"
    }
   ],
   "source": [
    "# Distribution of churn by Balance\n",
    "plt.figure(figsize=(20,10))\n",
    "sns.distplot(data['Balance'][data['Exited']==0], color='green', label='non-exited')\n",
    "sns.distplot(data['Balance'][data['Exited']==1], color='red', label='exited')\n",
    "\n",
    "plt.legend();"
   ]
  },
  {
   "cell_type": "markdown",
   "metadata": {},
   "source": [
    "Distinguish the features and target variable (5 points)"
   ]
  },
  {
   "cell_type": "code",
   "execution_count": 20,
   "metadata": {},
   "outputs": [],
   "source": [
    "# Features are columns from Credit Score to Estimated Salary\n",
    "# Target is Exited\n",
    "X_data = data.iloc[:,:10]\n",
    "y_data = data.iloc[:,10]"
   ]
  },
  {
   "cell_type": "code",
   "execution_count": 21,
   "metadata": {},
   "outputs": [
    {
     "name": "stdout",
     "output_type": "stream",
     "text": [
      "(10000, 11)\n",
      "(10000, 10)\n",
      "(10000,)\n"
     ]
    }
   ],
   "source": [
    "print(data.shape)\n",
    "print(X_data.shape)\n",
    "print(y_data.shape)"
   ]
  },
  {
   "cell_type": "markdown",
   "metadata": {},
   "source": [
    "Create one hot encoding to prepare the data for modelling"
   ]
  },
  {
   "cell_type": "code",
   "execution_count": 22,
   "metadata": {},
   "outputs": [
    {
     "data": {
      "text/html": [
       "<div>\n",
       "<style scoped>\n",
       "    .dataframe tbody tr th:only-of-type {\n",
       "        vertical-align: middle;\n",
       "    }\n",
       "\n",
       "    .dataframe tbody tr th {\n",
       "        vertical-align: top;\n",
       "    }\n",
       "\n",
       "    .dataframe thead th {\n",
       "        text-align: right;\n",
       "    }\n",
       "</style>\n",
       "<table border=\"1\" class=\"dataframe\">\n",
       "  <thead>\n",
       "    <tr style=\"text-align: right;\">\n",
       "      <th></th>\n",
       "      <th>CreditScore</th>\n",
       "      <th>Age</th>\n",
       "      <th>Tenure</th>\n",
       "      <th>Balance</th>\n",
       "      <th>NumOfProducts</th>\n",
       "      <th>HasCrCard</th>\n",
       "      <th>IsActiveMember</th>\n",
       "      <th>EstimatedSalary</th>\n",
       "      <th>Geography_France</th>\n",
       "      <th>Geography_Germany</th>\n",
       "      <th>Geography_Spain</th>\n",
       "      <th>Gender_Female</th>\n",
       "      <th>Gender_Male</th>\n",
       "    </tr>\n",
       "  </thead>\n",
       "  <tbody>\n",
       "    <tr>\n",
       "      <th>0</th>\n",
       "      <td>619</td>\n",
       "      <td>42</td>\n",
       "      <td>2</td>\n",
       "      <td>0.00</td>\n",
       "      <td>1</td>\n",
       "      <td>1</td>\n",
       "      <td>1</td>\n",
       "      <td>101348.88</td>\n",
       "      <td>1</td>\n",
       "      <td>0</td>\n",
       "      <td>0</td>\n",
       "      <td>1</td>\n",
       "      <td>0</td>\n",
       "    </tr>\n",
       "    <tr>\n",
       "      <th>1</th>\n",
       "      <td>608</td>\n",
       "      <td>41</td>\n",
       "      <td>1</td>\n",
       "      <td>83807.86</td>\n",
       "      <td>1</td>\n",
       "      <td>0</td>\n",
       "      <td>1</td>\n",
       "      <td>112542.58</td>\n",
       "      <td>0</td>\n",
       "      <td>0</td>\n",
       "      <td>1</td>\n",
       "      <td>1</td>\n",
       "      <td>0</td>\n",
       "    </tr>\n",
       "    <tr>\n",
       "      <th>2</th>\n",
       "      <td>502</td>\n",
       "      <td>42</td>\n",
       "      <td>8</td>\n",
       "      <td>159660.80</td>\n",
       "      <td>3</td>\n",
       "      <td>1</td>\n",
       "      <td>0</td>\n",
       "      <td>113931.57</td>\n",
       "      <td>1</td>\n",
       "      <td>0</td>\n",
       "      <td>0</td>\n",
       "      <td>1</td>\n",
       "      <td>0</td>\n",
       "    </tr>\n",
       "    <tr>\n",
       "      <th>3</th>\n",
       "      <td>699</td>\n",
       "      <td>39</td>\n",
       "      <td>1</td>\n",
       "      <td>0.00</td>\n",
       "      <td>2</td>\n",
       "      <td>0</td>\n",
       "      <td>0</td>\n",
       "      <td>93826.63</td>\n",
       "      <td>1</td>\n",
       "      <td>0</td>\n",
       "      <td>0</td>\n",
       "      <td>1</td>\n",
       "      <td>0</td>\n",
       "    </tr>\n",
       "    <tr>\n",
       "      <th>4</th>\n",
       "      <td>850</td>\n",
       "      <td>43</td>\n",
       "      <td>2</td>\n",
       "      <td>125510.82</td>\n",
       "      <td>1</td>\n",
       "      <td>1</td>\n",
       "      <td>1</td>\n",
       "      <td>79084.10</td>\n",
       "      <td>0</td>\n",
       "      <td>0</td>\n",
       "      <td>1</td>\n",
       "      <td>1</td>\n",
       "      <td>0</td>\n",
       "    </tr>\n",
       "    <tr>\n",
       "      <th>...</th>\n",
       "      <td>...</td>\n",
       "      <td>...</td>\n",
       "      <td>...</td>\n",
       "      <td>...</td>\n",
       "      <td>...</td>\n",
       "      <td>...</td>\n",
       "      <td>...</td>\n",
       "      <td>...</td>\n",
       "      <td>...</td>\n",
       "      <td>...</td>\n",
       "      <td>...</td>\n",
       "      <td>...</td>\n",
       "      <td>...</td>\n",
       "    </tr>\n",
       "    <tr>\n",
       "      <th>9995</th>\n",
       "      <td>771</td>\n",
       "      <td>39</td>\n",
       "      <td>5</td>\n",
       "      <td>0.00</td>\n",
       "      <td>2</td>\n",
       "      <td>1</td>\n",
       "      <td>0</td>\n",
       "      <td>96270.64</td>\n",
       "      <td>1</td>\n",
       "      <td>0</td>\n",
       "      <td>0</td>\n",
       "      <td>0</td>\n",
       "      <td>1</td>\n",
       "    </tr>\n",
       "    <tr>\n",
       "      <th>9996</th>\n",
       "      <td>516</td>\n",
       "      <td>35</td>\n",
       "      <td>10</td>\n",
       "      <td>57369.61</td>\n",
       "      <td>1</td>\n",
       "      <td>1</td>\n",
       "      <td>1</td>\n",
       "      <td>101699.77</td>\n",
       "      <td>1</td>\n",
       "      <td>0</td>\n",
       "      <td>0</td>\n",
       "      <td>0</td>\n",
       "      <td>1</td>\n",
       "    </tr>\n",
       "    <tr>\n",
       "      <th>9997</th>\n",
       "      <td>709</td>\n",
       "      <td>36</td>\n",
       "      <td>7</td>\n",
       "      <td>0.00</td>\n",
       "      <td>1</td>\n",
       "      <td>0</td>\n",
       "      <td>1</td>\n",
       "      <td>42085.58</td>\n",
       "      <td>1</td>\n",
       "      <td>0</td>\n",
       "      <td>0</td>\n",
       "      <td>1</td>\n",
       "      <td>0</td>\n",
       "    </tr>\n",
       "    <tr>\n",
       "      <th>9998</th>\n",
       "      <td>772</td>\n",
       "      <td>42</td>\n",
       "      <td>3</td>\n",
       "      <td>75075.31</td>\n",
       "      <td>2</td>\n",
       "      <td>1</td>\n",
       "      <td>0</td>\n",
       "      <td>92888.52</td>\n",
       "      <td>0</td>\n",
       "      <td>1</td>\n",
       "      <td>0</td>\n",
       "      <td>0</td>\n",
       "      <td>1</td>\n",
       "    </tr>\n",
       "    <tr>\n",
       "      <th>9999</th>\n",
       "      <td>792</td>\n",
       "      <td>28</td>\n",
       "      <td>4</td>\n",
       "      <td>130142.79</td>\n",
       "      <td>1</td>\n",
       "      <td>1</td>\n",
       "      <td>0</td>\n",
       "      <td>38190.78</td>\n",
       "      <td>1</td>\n",
       "      <td>0</td>\n",
       "      <td>0</td>\n",
       "      <td>1</td>\n",
       "      <td>0</td>\n",
       "    </tr>\n",
       "  </tbody>\n",
       "</table>\n",
       "<p>10000 rows × 13 columns</p>\n",
       "</div>"
      ],
      "text/plain": [
       "      CreditScore  Age  Tenure    Balance  NumOfProducts  HasCrCard  \\\n",
       "0             619   42       2       0.00              1          1   \n",
       "1             608   41       1   83807.86              1          0   \n",
       "2             502   42       8  159660.80              3          1   \n",
       "3             699   39       1       0.00              2          0   \n",
       "4             850   43       2  125510.82              1          1   \n",
       "...           ...  ...     ...        ...            ...        ...   \n",
       "9995          771   39       5       0.00              2          1   \n",
       "9996          516   35      10   57369.61              1          1   \n",
       "9997          709   36       7       0.00              1          0   \n",
       "9998          772   42       3   75075.31              2          1   \n",
       "9999          792   28       4  130142.79              1          1   \n",
       "\n",
       "      IsActiveMember  EstimatedSalary  Geography_France  Geography_Germany  \\\n",
       "0                  1        101348.88                 1                  0   \n",
       "1                  1        112542.58                 0                  0   \n",
       "2                  0        113931.57                 1                  0   \n",
       "3                  0         93826.63                 1                  0   \n",
       "4                  1         79084.10                 0                  0   \n",
       "...              ...              ...               ...                ...   \n",
       "9995               0         96270.64                 1                  0   \n",
       "9996               1        101699.77                 1                  0   \n",
       "9997               1         42085.58                 1                  0   \n",
       "9998               0         92888.52                 0                  1   \n",
       "9999               0         38190.78                 1                  0   \n",
       "\n",
       "      Geography_Spain  Gender_Female  Gender_Male  \n",
       "0                   0              1            0  \n",
       "1                   1              1            0  \n",
       "2                   0              1            0  \n",
       "3                   0              1            0  \n",
       "4                   1              1            0  \n",
       "...               ...            ...          ...  \n",
       "9995                0              0            1  \n",
       "9996                0              0            1  \n",
       "9997                0              1            0  \n",
       "9998                0              0            1  \n",
       "9999                0              1            0  \n",
       "\n",
       "[10000 rows x 13 columns]"
      ]
     },
     "execution_count": 22,
     "metadata": {},
     "output_type": "execute_result"
    }
   ],
   "source": [
    "X_data = pd.get_dummies(X_data)\n",
    "X_data"
   ]
  },
  {
   "cell_type": "markdown",
   "metadata": {},
   "source": [
    "### 4. Data Split\n",
    "Divide the data set into training and test sets (5 points)"
   ]
  },
  {
   "cell_type": "code",
   "execution_count": 23,
   "metadata": {},
   "outputs": [],
   "source": [
    "# Splitting 80-20\n",
    "X_train, X_test, y_train, y_test = train_test_split(X_data, y_data, test_size = 0.2, random_state = 7)"
   ]
  },
  {
   "cell_type": "code",
   "execution_count": 24,
   "metadata": {},
   "outputs": [
    {
     "name": "stdout",
     "output_type": "stream",
     "text": [
      "X_train: (8000, 13)\n",
      "X_test : (2000, 13)\n",
      "y_train: (8000,)\n",
      "y_test : (2000,)\n"
     ]
    }
   ],
   "source": [
    "print('X_train:', X_train.shape)\n",
    "print('X_test :', X_test.shape)\n",
    "print('y_train:', y_train.shape)\n",
    "print('y_test :', y_test.shape)"
   ]
  },
  {
   "cell_type": "markdown",
   "metadata": {},
   "source": [
    "### 5. Normalization\n",
    "Normalize the train and test data (10 points)"
   ]
  },
  {
   "cell_type": "code",
   "execution_count": 25,
   "metadata": {},
   "outputs": [
    {
     "name": "stderr",
     "output_type": "stream",
     "text": [
      "/opt/anaconda3/lib/python3.7/site-packages/ipykernel_launcher.py:17: SettingWithCopyWarning: \n",
      "A value is trying to be set on a copy of a slice from a DataFrame.\n",
      "Try using .loc[row_indexer,col_indexer] = value instead\n",
      "\n",
      "See the caveats in the documentation: https://pandas.pydata.org/pandas-docs/stable/user_guide/indexing.html#returning-a-view-versus-a-copy\n",
      "/opt/anaconda3/lib/python3.7/site-packages/pandas/core/indexing.py:966: SettingWithCopyWarning: \n",
      "A value is trying to be set on a copy of a slice from a DataFrame.\n",
      "Try using .loc[row_indexer,col_indexer] = value instead\n",
      "\n",
      "See the caveats in the documentation: https://pandas.pydata.org/pandas-docs/stable/user_guide/indexing.html#returning-a-view-versus-a-copy\n",
      "  self.obj[item] = s\n",
      "/opt/anaconda3/lib/python3.7/site-packages/ipykernel_launcher.py:18: SettingWithCopyWarning: \n",
      "A value is trying to be set on a copy of a slice from a DataFrame.\n",
      "Try using .loc[row_indexer,col_indexer] = value instead\n",
      "\n",
      "See the caveats in the documentation: https://pandas.pydata.org/pandas-docs/stable/user_guide/indexing.html#returning-a-view-versus-a-copy\n"
     ]
    }
   ],
   "source": [
    "# Use StandardScaler to normalize features containing continuous data\n",
    "scaler=StandardScaler()\n",
    "\n",
    "# Select features with continuous data\n",
    "continuous_features = ['CreditScore','Age','Tenure','Balance','NumOfProducts','EstimatedSalary']\n",
    "X_train[continuous_features]\n",
    "\n",
    "# Fit\n",
    "scaler.fit(X_train[continuous_features])\n",
    "\n",
    "# Transform\n",
    "X_train_scaled=scaler.transform(X_train[continuous_features])\n",
    "X_test_scaled=scaler.transform(X_test[continuous_features])\n",
    "\n",
    "\n",
    "# Update continuous data in X_train with new scaled data\n",
    "X_train[continuous_features] = X_train_scaled\n",
    "X_test[continuous_features] = X_test_scaled"
   ]
  },
  {
   "cell_type": "code",
   "execution_count": 26,
   "metadata": {},
   "outputs": [
    {
     "data": {
      "text/html": [
       "<div>\n",
       "<style scoped>\n",
       "    .dataframe tbody tr th:only-of-type {\n",
       "        vertical-align: middle;\n",
       "    }\n",
       "\n",
       "    .dataframe tbody tr th {\n",
       "        vertical-align: top;\n",
       "    }\n",
       "\n",
       "    .dataframe thead th {\n",
       "        text-align: right;\n",
       "    }\n",
       "</style>\n",
       "<table border=\"1\" class=\"dataframe\">\n",
       "  <thead>\n",
       "    <tr style=\"text-align: right;\">\n",
       "      <th></th>\n",
       "      <th>CreditScore</th>\n",
       "      <th>Age</th>\n",
       "      <th>Tenure</th>\n",
       "      <th>Balance</th>\n",
       "      <th>NumOfProducts</th>\n",
       "      <th>HasCrCard</th>\n",
       "      <th>IsActiveMember</th>\n",
       "      <th>EstimatedSalary</th>\n",
       "      <th>Geography_France</th>\n",
       "      <th>Geography_Germany</th>\n",
       "      <th>Geography_Spain</th>\n",
       "      <th>Gender_Female</th>\n",
       "      <th>Gender_Male</th>\n",
       "    </tr>\n",
       "  </thead>\n",
       "  <tbody>\n",
       "    <tr>\n",
       "      <th>4989</th>\n",
       "      <td>-0.224828</td>\n",
       "      <td>0.099845</td>\n",
       "      <td>1.377789</td>\n",
       "      <td>-1.234331</td>\n",
       "      <td>-0.906787</td>\n",
       "      <td>1</td>\n",
       "      <td>0</td>\n",
       "      <td>-1.736747</td>\n",
       "      <td>1</td>\n",
       "      <td>0</td>\n",
       "      <td>0</td>\n",
       "      <td>0</td>\n",
       "      <td>1</td>\n",
       "    </tr>\n",
       "    <tr>\n",
       "      <th>4498</th>\n",
       "      <td>-0.835785</td>\n",
       "      <td>-0.848578</td>\n",
       "      <td>-1.037266</td>\n",
       "      <td>0.874085</td>\n",
       "      <td>-0.906787</td>\n",
       "      <td>1</td>\n",
       "      <td>1</td>\n",
       "      <td>-0.905804</td>\n",
       "      <td>1</td>\n",
       "      <td>0</td>\n",
       "      <td>0</td>\n",
       "      <td>0</td>\n",
       "      <td>1</td>\n",
       "    </tr>\n",
       "    <tr>\n",
       "      <th>8876</th>\n",
       "      <td>-0.980758</td>\n",
       "      <td>0.668899</td>\n",
       "      <td>-0.692259</td>\n",
       "      <td>0.879836</td>\n",
       "      <td>-0.906787</td>\n",
       "      <td>1</td>\n",
       "      <td>1</td>\n",
       "      <td>0.145744</td>\n",
       "      <td>0</td>\n",
       "      <td>0</td>\n",
       "      <td>1</td>\n",
       "      <td>0</td>\n",
       "      <td>1</td>\n",
       "    </tr>\n",
       "    <tr>\n",
       "      <th>670</th>\n",
       "      <td>-0.276604</td>\n",
       "      <td>0.858584</td>\n",
       "      <td>-0.692259</td>\n",
       "      <td>0.729389</td>\n",
       "      <td>0.808987</td>\n",
       "      <td>0</td>\n",
       "      <td>0</td>\n",
       "      <td>-1.217237</td>\n",
       "      <td>0</td>\n",
       "      <td>1</td>\n",
       "      <td>0</td>\n",
       "      <td>1</td>\n",
       "      <td>0</td>\n",
       "    </tr>\n",
       "    <tr>\n",
       "      <th>9552</th>\n",
       "      <td>0.137604</td>\n",
       "      <td>0.194688</td>\n",
       "      <td>-0.002243</td>\n",
       "      <td>-1.234331</td>\n",
       "      <td>-0.906787</td>\n",
       "      <td>1</td>\n",
       "      <td>1</td>\n",
       "      <td>0.902146</td>\n",
       "      <td>1</td>\n",
       "      <td>0</td>\n",
       "      <td>0</td>\n",
       "      <td>1</td>\n",
       "      <td>0</td>\n",
       "    </tr>\n",
       "    <tr>\n",
       "      <th>...</th>\n",
       "      <td>...</td>\n",
       "      <td>...</td>\n",
       "      <td>...</td>\n",
       "      <td>...</td>\n",
       "      <td>...</td>\n",
       "      <td>...</td>\n",
       "      <td>...</td>\n",
       "      <td>...</td>\n",
       "      <td>...</td>\n",
       "      <td>...</td>\n",
       "      <td>...</td>\n",
       "      <td>...</td>\n",
       "      <td>...</td>\n",
       "    </tr>\n",
       "    <tr>\n",
       "      <th>919</th>\n",
       "      <td>-1.022179</td>\n",
       "      <td>0.574057</td>\n",
       "      <td>1.377789</td>\n",
       "      <td>-1.234331</td>\n",
       "      <td>0.808987</td>\n",
       "      <td>1</td>\n",
       "      <td>0</td>\n",
       "      <td>-1.273985</td>\n",
       "      <td>0</td>\n",
       "      <td>0</td>\n",
       "      <td>1</td>\n",
       "      <td>0</td>\n",
       "      <td>1</td>\n",
       "    </tr>\n",
       "    <tr>\n",
       "      <th>4307</th>\n",
       "      <td>1.235256</td>\n",
       "      <td>0.668899</td>\n",
       "      <td>1.377789</td>\n",
       "      <td>1.825095</td>\n",
       "      <td>-0.906787</td>\n",
       "      <td>1</td>\n",
       "      <td>1</td>\n",
       "      <td>-1.482863</td>\n",
       "      <td>0</td>\n",
       "      <td>0</td>\n",
       "      <td>1</td>\n",
       "      <td>0</td>\n",
       "      <td>1</td>\n",
       "    </tr>\n",
       "    <tr>\n",
       "      <th>5699</th>\n",
       "      <td>0.344708</td>\n",
       "      <td>-0.374367</td>\n",
       "      <td>0.342765</td>\n",
       "      <td>0.945725</td>\n",
       "      <td>-0.906787</td>\n",
       "      <td>1</td>\n",
       "      <td>1</td>\n",
       "      <td>-0.223850</td>\n",
       "      <td>1</td>\n",
       "      <td>0</td>\n",
       "      <td>0</td>\n",
       "      <td>0</td>\n",
       "      <td>1</td>\n",
       "    </tr>\n",
       "    <tr>\n",
       "      <th>537</th>\n",
       "      <td>0.365418</td>\n",
       "      <td>-0.469209</td>\n",
       "      <td>1.377789</td>\n",
       "      <td>-1.234331</td>\n",
       "      <td>0.808987</td>\n",
       "      <td>1</td>\n",
       "      <td>0</td>\n",
       "      <td>0.476920</td>\n",
       "      <td>0</td>\n",
       "      <td>0</td>\n",
       "      <td>1</td>\n",
       "      <td>0</td>\n",
       "      <td>1</td>\n",
       "    </tr>\n",
       "    <tr>\n",
       "      <th>9412</th>\n",
       "      <td>0.769271</td>\n",
       "      <td>-1.227948</td>\n",
       "      <td>0.342765</td>\n",
       "      <td>0.349055</td>\n",
       "      <td>-0.906787</td>\n",
       "      <td>0</td>\n",
       "      <td>0</td>\n",
       "      <td>0.583741</td>\n",
       "      <td>1</td>\n",
       "      <td>0</td>\n",
       "      <td>0</td>\n",
       "      <td>0</td>\n",
       "      <td>1</td>\n",
       "    </tr>\n",
       "  </tbody>\n",
       "</table>\n",
       "<p>8000 rows × 13 columns</p>\n",
       "</div>"
      ],
      "text/plain": [
       "      CreditScore       Age    Tenure   Balance  NumOfProducts  HasCrCard  \\\n",
       "4989    -0.224828  0.099845  1.377789 -1.234331      -0.906787          1   \n",
       "4498    -0.835785 -0.848578 -1.037266  0.874085      -0.906787          1   \n",
       "8876    -0.980758  0.668899 -0.692259  0.879836      -0.906787          1   \n",
       "670     -0.276604  0.858584 -0.692259  0.729389       0.808987          0   \n",
       "9552     0.137604  0.194688 -0.002243 -1.234331      -0.906787          1   \n",
       "...           ...       ...       ...       ...            ...        ...   \n",
       "919     -1.022179  0.574057  1.377789 -1.234331       0.808987          1   \n",
       "4307     1.235256  0.668899  1.377789  1.825095      -0.906787          1   \n",
       "5699     0.344708 -0.374367  0.342765  0.945725      -0.906787          1   \n",
       "537      0.365418 -0.469209  1.377789 -1.234331       0.808987          1   \n",
       "9412     0.769271 -1.227948  0.342765  0.349055      -0.906787          0   \n",
       "\n",
       "      IsActiveMember  EstimatedSalary  Geography_France  Geography_Germany  \\\n",
       "4989               0        -1.736747                 1                  0   \n",
       "4498               1        -0.905804                 1                  0   \n",
       "8876               1         0.145744                 0                  0   \n",
       "670                0        -1.217237                 0                  1   \n",
       "9552               1         0.902146                 1                  0   \n",
       "...              ...              ...               ...                ...   \n",
       "919                0        -1.273985                 0                  0   \n",
       "4307               1        -1.482863                 0                  0   \n",
       "5699               1        -0.223850                 1                  0   \n",
       "537                0         0.476920                 0                  0   \n",
       "9412               0         0.583741                 1                  0   \n",
       "\n",
       "      Geography_Spain  Gender_Female  Gender_Male  \n",
       "4989                0              0            1  \n",
       "4498                0              0            1  \n",
       "8876                1              0            1  \n",
       "670                 0              1            0  \n",
       "9552                0              1            0  \n",
       "...               ...            ...          ...  \n",
       "919                 1              0            1  \n",
       "4307                1              0            1  \n",
       "5699                0              0            1  \n",
       "537                 1              0            1  \n",
       "9412                0              0            1  \n",
       "\n",
       "[8000 rows x 13 columns]"
      ]
     },
     "execution_count": 26,
     "metadata": {},
     "output_type": "execute_result"
    }
   ],
   "source": [
    "X_train"
   ]
  },
  {
   "cell_type": "code",
   "execution_count": 27,
   "metadata": {},
   "outputs": [
    {
     "data": {
      "text/html": [
       "<div>\n",
       "<style scoped>\n",
       "    .dataframe tbody tr th:only-of-type {\n",
       "        vertical-align: middle;\n",
       "    }\n",
       "\n",
       "    .dataframe tbody tr th {\n",
       "        vertical-align: top;\n",
       "    }\n",
       "\n",
       "    .dataframe thead th {\n",
       "        text-align: right;\n",
       "    }\n",
       "</style>\n",
       "<table border=\"1\" class=\"dataframe\">\n",
       "  <thead>\n",
       "    <tr style=\"text-align: right;\">\n",
       "      <th></th>\n",
       "      <th>CreditScore</th>\n",
       "      <th>Age</th>\n",
       "      <th>Tenure</th>\n",
       "      <th>Balance</th>\n",
       "      <th>NumOfProducts</th>\n",
       "      <th>HasCrCard</th>\n",
       "      <th>IsActiveMember</th>\n",
       "      <th>EstimatedSalary</th>\n",
       "      <th>Geography_France</th>\n",
       "      <th>Geography_Germany</th>\n",
       "      <th>Geography_Spain</th>\n",
       "      <th>Gender_Female</th>\n",
       "      <th>Gender_Male</th>\n",
       "    </tr>\n",
       "  </thead>\n",
       "  <tbody>\n",
       "    <tr>\n",
       "      <th>1977</th>\n",
       "      <td>0.686430</td>\n",
       "      <td>-0.374367</td>\n",
       "      <td>-1.382274</td>\n",
       "      <td>-1.234331</td>\n",
       "      <td>2.524761</td>\n",
       "      <td>0</td>\n",
       "      <td>0</td>\n",
       "      <td>1.296654</td>\n",
       "      <td>0</td>\n",
       "      <td>0</td>\n",
       "      <td>1</td>\n",
       "      <td>0</td>\n",
       "      <td>1</td>\n",
       "    </tr>\n",
       "    <tr>\n",
       "      <th>3880</th>\n",
       "      <td>0.272222</td>\n",
       "      <td>3.134801</td>\n",
       "      <td>1.032781</td>\n",
       "      <td>-1.234331</td>\n",
       "      <td>0.808987</td>\n",
       "      <td>1</td>\n",
       "      <td>1</td>\n",
       "      <td>0.929066</td>\n",
       "      <td>1</td>\n",
       "      <td>0</td>\n",
       "      <td>0</td>\n",
       "      <td>1</td>\n",
       "      <td>0</td>\n",
       "    </tr>\n",
       "    <tr>\n",
       "      <th>52</th>\n",
       "      <td>1.421649</td>\n",
       "      <td>-0.564051</td>\n",
       "      <td>-0.002243</td>\n",
       "      <td>-1.234331</td>\n",
       "      <td>0.808987</td>\n",
       "      <td>0</td>\n",
       "      <td>0</td>\n",
       "      <td>0.292974</td>\n",
       "      <td>1</td>\n",
       "      <td>0</td>\n",
       "      <td>0</td>\n",
       "      <td>1</td>\n",
       "      <td>0</td>\n",
       "    </tr>\n",
       "    <tr>\n",
       "      <th>2551</th>\n",
       "      <td>-1.177507</td>\n",
       "      <td>1.332796</td>\n",
       "      <td>-0.692259</td>\n",
       "      <td>-1.234331</td>\n",
       "      <td>-0.906787</td>\n",
       "      <td>1</td>\n",
       "      <td>1</td>\n",
       "      <td>-0.151130</td>\n",
       "      <td>1</td>\n",
       "      <td>0</td>\n",
       "      <td>0</td>\n",
       "      <td>1</td>\n",
       "      <td>0</td>\n",
       "    </tr>\n",
       "    <tr>\n",
       "      <th>2246</th>\n",
       "      <td>0.686430</td>\n",
       "      <td>0.005003</td>\n",
       "      <td>0.342765</td>\n",
       "      <td>-1.234331</td>\n",
       "      <td>0.808987</td>\n",
       "      <td>1</td>\n",
       "      <td>0</td>\n",
       "      <td>-0.118671</td>\n",
       "      <td>0</td>\n",
       "      <td>0</td>\n",
       "      <td>1</td>\n",
       "      <td>1</td>\n",
       "      <td>0</td>\n",
       "    </tr>\n",
       "    <tr>\n",
       "      <th>...</th>\n",
       "      <td>...</td>\n",
       "      <td>...</td>\n",
       "      <td>...</td>\n",
       "      <td>...</td>\n",
       "      <td>...</td>\n",
       "      <td>...</td>\n",
       "      <td>...</td>\n",
       "      <td>...</td>\n",
       "      <td>...</td>\n",
       "      <td>...</td>\n",
       "      <td>...</td>\n",
       "      <td>...</td>\n",
       "      <td>...</td>\n",
       "    </tr>\n",
       "    <tr>\n",
       "      <th>9505</th>\n",
       "      <td>0.002986</td>\n",
       "      <td>-1.038263</td>\n",
       "      <td>1.722797</td>\n",
       "      <td>0.042256</td>\n",
       "      <td>-0.906787</td>\n",
       "      <td>1</td>\n",
       "      <td>1</td>\n",
       "      <td>-0.441495</td>\n",
       "      <td>1</td>\n",
       "      <td>0</td>\n",
       "      <td>0</td>\n",
       "      <td>0</td>\n",
       "      <td>1</td>\n",
       "    </tr>\n",
       "    <tr>\n",
       "      <th>2836</th>\n",
       "      <td>0.292932</td>\n",
       "      <td>1.996693</td>\n",
       "      <td>1.032781</td>\n",
       "      <td>-1.234331</td>\n",
       "      <td>0.808987</td>\n",
       "      <td>1</td>\n",
       "      <td>1</td>\n",
       "      <td>-0.846262</td>\n",
       "      <td>1</td>\n",
       "      <td>0</td>\n",
       "      <td>0</td>\n",
       "      <td>0</td>\n",
       "      <td>1</td>\n",
       "    </tr>\n",
       "    <tr>\n",
       "      <th>1169</th>\n",
       "      <td>0.023697</td>\n",
       "      <td>-0.089839</td>\n",
       "      <td>1.032781</td>\n",
       "      <td>0.404397</td>\n",
       "      <td>-0.906787</td>\n",
       "      <td>1</td>\n",
       "      <td>1</td>\n",
       "      <td>1.153389</td>\n",
       "      <td>1</td>\n",
       "      <td>0</td>\n",
       "      <td>0</td>\n",
       "      <td>1</td>\n",
       "      <td>0</td>\n",
       "    </tr>\n",
       "    <tr>\n",
       "      <th>9929</th>\n",
       "      <td>1.079927</td>\n",
       "      <td>-0.089839</td>\n",
       "      <td>-0.347251</td>\n",
       "      <td>0.548217</td>\n",
       "      <td>-0.906787</td>\n",
       "      <td>1</td>\n",
       "      <td>1</td>\n",
       "      <td>-1.395375</td>\n",
       "      <td>0</td>\n",
       "      <td>1</td>\n",
       "      <td>0</td>\n",
       "      <td>0</td>\n",
       "      <td>1</td>\n",
       "    </tr>\n",
       "    <tr>\n",
       "      <th>8486</th>\n",
       "      <td>0.903889</td>\n",
       "      <td>0.099845</td>\n",
       "      <td>0.342765</td>\n",
       "      <td>0.609890</td>\n",
       "      <td>0.808987</td>\n",
       "      <td>1</td>\n",
       "      <td>1</td>\n",
       "      <td>1.646174</td>\n",
       "      <td>0</td>\n",
       "      <td>1</td>\n",
       "      <td>0</td>\n",
       "      <td>1</td>\n",
       "      <td>0</td>\n",
       "    </tr>\n",
       "  </tbody>\n",
       "</table>\n",
       "<p>2000 rows × 13 columns</p>\n",
       "</div>"
      ],
      "text/plain": [
       "      CreditScore       Age    Tenure   Balance  NumOfProducts  HasCrCard  \\\n",
       "1977     0.686430 -0.374367 -1.382274 -1.234331       2.524761          0   \n",
       "3880     0.272222  3.134801  1.032781 -1.234331       0.808987          1   \n",
       "52       1.421649 -0.564051 -0.002243 -1.234331       0.808987          0   \n",
       "2551    -1.177507  1.332796 -0.692259 -1.234331      -0.906787          1   \n",
       "2246     0.686430  0.005003  0.342765 -1.234331       0.808987          1   \n",
       "...           ...       ...       ...       ...            ...        ...   \n",
       "9505     0.002986 -1.038263  1.722797  0.042256      -0.906787          1   \n",
       "2836     0.292932  1.996693  1.032781 -1.234331       0.808987          1   \n",
       "1169     0.023697 -0.089839  1.032781  0.404397      -0.906787          1   \n",
       "9929     1.079927 -0.089839 -0.347251  0.548217      -0.906787          1   \n",
       "8486     0.903889  0.099845  0.342765  0.609890       0.808987          1   \n",
       "\n",
       "      IsActiveMember  EstimatedSalary  Geography_France  Geography_Germany  \\\n",
       "1977               0         1.296654                 0                  0   \n",
       "3880               1         0.929066                 1                  0   \n",
       "52                 0         0.292974                 1                  0   \n",
       "2551               1        -0.151130                 1                  0   \n",
       "2246               0        -0.118671                 0                  0   \n",
       "...              ...              ...               ...                ...   \n",
       "9505               1        -0.441495                 1                  0   \n",
       "2836               1        -0.846262                 1                  0   \n",
       "1169               1         1.153389                 1                  0   \n",
       "9929               1        -1.395375                 0                  1   \n",
       "8486               1         1.646174                 0                  1   \n",
       "\n",
       "      Geography_Spain  Gender_Female  Gender_Male  \n",
       "1977                1              0            1  \n",
       "3880                0              1            0  \n",
       "52                  0              1            0  \n",
       "2551                0              1            0  \n",
       "2246                1              1            0  \n",
       "...               ...            ...          ...  \n",
       "9505                0              0            1  \n",
       "2836                0              0            1  \n",
       "1169                0              1            0  \n",
       "9929                0              0            1  \n",
       "8486                0              1            0  \n",
       "\n",
       "[2000 rows x 13 columns]"
      ]
     },
     "execution_count": 27,
     "metadata": {},
     "output_type": "execute_result"
    }
   ],
   "source": [
    "X_test"
   ]
  },
  {
   "cell_type": "code",
   "execution_count": 28,
   "metadata": {},
   "outputs": [],
   "source": [
    "# Convert Data into Numpy arrays\n",
    "X_train_array=np.array(X_train)\n",
    "X_test_array=np.array(X_test)\n",
    "y_train_array=np.array(y_train)\n",
    "y_test_array=np.array(y_test)"
   ]
  },
  {
   "cell_type": "markdown",
   "metadata": {},
   "source": [
    "### 6. Modelling\n",
    "Initialize & build the model. Identify the points of improvement and implement the same the same. (20) "
   ]
  },
  {
   "cell_type": "code",
   "execution_count": 29,
   "metadata": {},
   "outputs": [],
   "source": [
    "# Initialize Sequential model\n",
    "model = Sequential()\n",
    "\n",
    "# Add Input layer to the model\n",
    "model.add(Input(shape=(13,))) # 13 Features\n",
    "\n",
    "# Hidden layers and Batch Normalization and Dropout\n",
    "model.add(Dense(13, kernel_initializer='he_normal', bias_initializer='Ones', activation='relu', name='Layer_1'))\n",
    "model.add(BatchNormalization())\n",
    "model.add(Dense(13, kernel_initializer='he_normal', bias_initializer='Ones', activation='relu', name='Layer_2'))\n",
    "model.add(BatchNormalization())\n",
    "model.add(Dropout(0.5))\n",
    "model.add(Dense(10, kernel_initializer='he_normal', bias_initializer='Ones', activation='relu', name='Layer_3'))\n",
    "#model.add(BatchNormalization())\n",
    "model.add(Dropout(0.3))\n",
    "\n",
    "#Output layer\n",
    "model.add(Dense(1, activation='sigmoid', name='Output'))"
   ]
  },
  {
   "cell_type": "code",
   "execution_count": 30,
   "metadata": {},
   "outputs": [],
   "source": [
    "# Initialize the optimizer\n",
    "sgd = optimizers.Adam(lr = 0.001)"
   ]
  },
  {
   "cell_type": "code",
   "execution_count": 31,
   "metadata": {},
   "outputs": [],
   "source": [
    "# Compile the model\n",
    "model.compile(optimizer = sgd, loss = 'binary_crossentropy', metrics=['accuracy'])"
   ]
  },
  {
   "cell_type": "code",
   "execution_count": 32,
   "metadata": {},
   "outputs": [
    {
     "name": "stdout",
     "output_type": "stream",
     "text": [
      "Model: \"sequential\"\n",
      "_________________________________________________________________\n",
      "Layer (type)                 Output Shape              Param #   \n",
      "=================================================================\n",
      "Layer_1 (Dense)              (None, 13)                182       \n",
      "_________________________________________________________________\n",
      "batch_normalization (BatchNo (None, 13)                52        \n",
      "_________________________________________________________________\n",
      "Layer_2 (Dense)              (None, 13)                182       \n",
      "_________________________________________________________________\n",
      "batch_normalization_1 (Batch (None, 13)                52        \n",
      "_________________________________________________________________\n",
      "dropout (Dropout)            (None, 13)                0         \n",
      "_________________________________________________________________\n",
      "Layer_3 (Dense)              (None, 10)                140       \n",
      "_________________________________________________________________\n",
      "dropout_1 (Dropout)          (None, 10)                0         \n",
      "_________________________________________________________________\n",
      "Output (Dense)               (None, 1)                 11        \n",
      "=================================================================\n",
      "Total params: 619\n",
      "Trainable params: 567\n",
      "Non-trainable params: 52\n",
      "_________________________________________________________________\n"
     ]
    }
   ],
   "source": [
    "# Model Summary\n",
    "model.summary()"
   ]
  },
  {
   "cell_type": "code",
   "execution_count": 33,
   "metadata": {},
   "outputs": [
    {
     "name": "stdout",
     "output_type": "stream",
     "text": [
      "Epoch 1/200\n",
      "WARNING:tensorflow:AutoGraph could not transform <function Model.make_train_function.<locals>.train_function at 0x7ff594d177a0> and will run it as-is.\n",
      "Please report this to the TensorFlow team. When filing the bug, set the verbosity to 10 (on Linux, `export AUTOGRAPH_VERBOSITY=10`) and attach the full output.\n",
      "Cause: 'arguments' object has no attribute 'posonlyargs'\n",
      "To silence this warning, decorate the function with @tf.autograph.experimental.do_not_convert\n",
      "WARNING: AutoGraph could not transform <function Model.make_train_function.<locals>.train_function at 0x7ff594d177a0> and will run it as-is.\n",
      "Please report this to the TensorFlow team. When filing the bug, set the verbosity to 10 (on Linux, `export AUTOGRAPH_VERBOSITY=10`) and attach the full output.\n",
      "Cause: 'arguments' object has no attribute 'posonlyargs'\n",
      "To silence this warning, decorate the function with @tf.autograph.experimental.do_not_convert\n",
      "235/250 [===========================>..] - ETA: 0s - loss: 0.6520 - accuracy: 0.7170WARNING:tensorflow:AutoGraph could not transform <function Model.make_test_function.<locals>.test_function at 0x7ff593a9ec20> and will run it as-is.\n",
      "Please report this to the TensorFlow team. When filing the bug, set the verbosity to 10 (on Linux, `export AUTOGRAPH_VERBOSITY=10`) and attach the full output.\n",
      "Cause: 'arguments' object has no attribute 'posonlyargs'\n",
      "To silence this warning, decorate the function with @tf.autograph.experimental.do_not_convert\n",
      "WARNING: AutoGraph could not transform <function Model.make_test_function.<locals>.test_function at 0x7ff593a9ec20> and will run it as-is.\n",
      "Please report this to the TensorFlow team. When filing the bug, set the verbosity to 10 (on Linux, `export AUTOGRAPH_VERBOSITY=10`) and attach the full output.\n",
      "Cause: 'arguments' object has no attribute 'posonlyargs'\n",
      "To silence this warning, decorate the function with @tf.autograph.experimental.do_not_convert\n",
      "250/250 [==============================] - 1s 3ms/step - loss: 0.6457 - accuracy: 0.7195 - val_loss: 0.4381 - val_accuracy: 0.7995\n",
      "Epoch 2/200\n",
      "250/250 [==============================] - 0s 2ms/step - loss: 0.5390 - accuracy: 0.7639 - val_loss: 0.4226 - val_accuracy: 0.8120\n",
      "Epoch 3/200\n",
      "250/250 [==============================] - 0s 2ms/step - loss: 0.4982 - accuracy: 0.7795 - val_loss: 0.4140 - val_accuracy: 0.8145\n",
      "Epoch 4/200\n",
      "250/250 [==============================] - 0s 2ms/step - loss: 0.4752 - accuracy: 0.7899 - val_loss: 0.4104 - val_accuracy: 0.8200\n",
      "Epoch 5/200\n",
      "250/250 [==============================] - 0s 2ms/step - loss: 0.4603 - accuracy: 0.7950 - val_loss: 0.4055 - val_accuracy: 0.8240\n",
      "Epoch 6/200\n",
      "250/250 [==============================] - 1s 3ms/step - loss: 0.4461 - accuracy: 0.8001 - val_loss: 0.3998 - val_accuracy: 0.8245\n",
      "Epoch 7/200\n",
      "250/250 [==============================] - 0s 2ms/step - loss: 0.4358 - accuracy: 0.8060 - val_loss: 0.3951 - val_accuracy: 0.8325\n",
      "Epoch 8/200\n",
      "250/250 [==============================] - 1s 3ms/step - loss: 0.4216 - accuracy: 0.8148 - val_loss: 0.3889 - val_accuracy: 0.8370\n",
      "Epoch 9/200\n",
      "250/250 [==============================] - 0s 2ms/step - loss: 0.4164 - accuracy: 0.8139 - val_loss: 0.3820 - val_accuracy: 0.8435\n",
      "Epoch 10/200\n",
      "250/250 [==============================] - 0s 2ms/step - loss: 0.4152 - accuracy: 0.8146 - val_loss: 0.3784 - val_accuracy: 0.8445\n",
      "Epoch 11/200\n",
      "250/250 [==============================] - 0s 2ms/step - loss: 0.4052 - accuracy: 0.8201 - val_loss: 0.3755 - val_accuracy: 0.8405\n",
      "Epoch 12/200\n",
      "250/250 [==============================] - 0s 2ms/step - loss: 0.4046 - accuracy: 0.8210 - val_loss: 0.3727 - val_accuracy: 0.8425\n",
      "Epoch 13/200\n",
      "250/250 [==============================] - 1s 2ms/step - loss: 0.3991 - accuracy: 0.8271 - val_loss: 0.3719 - val_accuracy: 0.8440\n",
      "Epoch 14/200\n",
      "250/250 [==============================] - 1s 3ms/step - loss: 0.3975 - accuracy: 0.8219 - val_loss: 0.3743 - val_accuracy: 0.8470\n",
      "Epoch 15/200\n",
      "250/250 [==============================] - 1s 3ms/step - loss: 0.3934 - accuracy: 0.8299 - val_loss: 0.3707 - val_accuracy: 0.8485\n",
      "Epoch 16/200\n",
      "250/250 [==============================] - 1s 3ms/step - loss: 0.3933 - accuracy: 0.8294 - val_loss: 0.3681 - val_accuracy: 0.8450\n",
      "Epoch 17/200\n",
      "250/250 [==============================] - 1s 3ms/step - loss: 0.3901 - accuracy: 0.8256 - val_loss: 0.3686 - val_accuracy: 0.8450\n",
      "Epoch 18/200\n",
      "250/250 [==============================] - 1s 2ms/step - loss: 0.3879 - accuracy: 0.8305 - val_loss: 0.3678 - val_accuracy: 0.8470\n",
      "Epoch 19/200\n",
      "250/250 [==============================] - 1s 3ms/step - loss: 0.3890 - accuracy: 0.8292 - val_loss: 0.3663 - val_accuracy: 0.8485\n",
      "Epoch 20/200\n",
      "250/250 [==============================] - 1s 3ms/step - loss: 0.3842 - accuracy: 0.8311 - val_loss: 0.3654 - val_accuracy: 0.8505\n",
      "Epoch 21/200\n",
      "250/250 [==============================] - 1s 3ms/step - loss: 0.3854 - accuracy: 0.8389 - val_loss: 0.3665 - val_accuracy: 0.8520\n",
      "Epoch 22/200\n",
      "250/250 [==============================] - 1s 3ms/step - loss: 0.3880 - accuracy: 0.8346 - val_loss: 0.3637 - val_accuracy: 0.8550\n",
      "Epoch 23/200\n",
      "250/250 [==============================] - 1s 3ms/step - loss: 0.3828 - accuracy: 0.8353 - val_loss: 0.3621 - val_accuracy: 0.8510\n",
      "Epoch 24/200\n",
      "250/250 [==============================] - 1s 2ms/step - loss: 0.3836 - accuracy: 0.8422 - val_loss: 0.3613 - val_accuracy: 0.8560\n",
      "Epoch 25/200\n",
      "250/250 [==============================] - 1s 2ms/step - loss: 0.3822 - accuracy: 0.8380 - val_loss: 0.3604 - val_accuracy: 0.8540\n",
      "Epoch 26/200\n",
      "250/250 [==============================] - 1s 3ms/step - loss: 0.3776 - accuracy: 0.8365 - val_loss: 0.3618 - val_accuracy: 0.8515\n",
      "Epoch 27/200\n",
      "250/250 [==============================] - 0s 2ms/step - loss: 0.3834 - accuracy: 0.8379 - val_loss: 0.3588 - val_accuracy: 0.8510\n",
      "Epoch 28/200\n",
      "250/250 [==============================] - 1s 2ms/step - loss: 0.3711 - accuracy: 0.8447 - val_loss: 0.3581 - val_accuracy: 0.8530\n",
      "Epoch 29/200\n",
      "250/250 [==============================] - 1s 3ms/step - loss: 0.3778 - accuracy: 0.8349 - val_loss: 0.3574 - val_accuracy: 0.8570\n",
      "Epoch 30/200\n",
      "250/250 [==============================] - 1s 3ms/step - loss: 0.3827 - accuracy: 0.8393 - val_loss: 0.3573 - val_accuracy: 0.8540\n",
      "Epoch 31/200\n",
      "250/250 [==============================] - 1s 3ms/step - loss: 0.3758 - accuracy: 0.8461 - val_loss: 0.3561 - val_accuracy: 0.8555\n",
      "Epoch 32/200\n",
      "250/250 [==============================] - 1s 2ms/step - loss: 0.3766 - accuracy: 0.8396 - val_loss: 0.3564 - val_accuracy: 0.8560\n",
      "Epoch 33/200\n",
      "250/250 [==============================] - 1s 2ms/step - loss: 0.3773 - accuracy: 0.8434 - val_loss: 0.3555 - val_accuracy: 0.8550\n",
      "Epoch 34/200\n",
      "250/250 [==============================] - 0s 2ms/step - loss: 0.3769 - accuracy: 0.8422 - val_loss: 0.3545 - val_accuracy: 0.8600\n",
      "Epoch 35/200\n",
      "250/250 [==============================] - 1s 2ms/step - loss: 0.3764 - accuracy: 0.8403 - val_loss: 0.3553 - val_accuracy: 0.8585\n",
      "Epoch 36/200\n",
      "250/250 [==============================] - 1s 2ms/step - loss: 0.3747 - accuracy: 0.8396 - val_loss: 0.3544 - val_accuracy: 0.8590\n",
      "Epoch 37/200\n",
      "250/250 [==============================] - 1s 3ms/step - loss: 0.3786 - accuracy: 0.8403 - val_loss: 0.3527 - val_accuracy: 0.8575\n",
      "Epoch 38/200\n",
      "250/250 [==============================] - 1s 2ms/step - loss: 0.3736 - accuracy: 0.8415 - val_loss: 0.3525 - val_accuracy: 0.8615\n",
      "Epoch 39/200\n",
      "250/250 [==============================] - 1s 3ms/step - loss: 0.3726 - accuracy: 0.8409 - val_loss: 0.3516 - val_accuracy: 0.8580\n",
      "Epoch 40/200\n",
      "250/250 [==============================] - 0s 1ms/step - loss: 0.3733 - accuracy: 0.8459 - val_loss: 0.3525 - val_accuracy: 0.8615\n",
      "Epoch 41/200\n",
      "250/250 [==============================] - 0s 2ms/step - loss: 0.3728 - accuracy: 0.8445 - val_loss: 0.3520 - val_accuracy: 0.8600\n",
      "Epoch 42/200\n",
      "250/250 [==============================] - 0s 2ms/step - loss: 0.3706 - accuracy: 0.8441 - val_loss: 0.3529 - val_accuracy: 0.8585\n",
      "Epoch 43/200\n",
      "250/250 [==============================] - 0s 1ms/step - loss: 0.3749 - accuracy: 0.8390 - val_loss: 0.3524 - val_accuracy: 0.8570\n",
      "Epoch 44/200\n",
      "250/250 [==============================] - 0s 1ms/step - loss: 0.3729 - accuracy: 0.8415 - val_loss: 0.3531 - val_accuracy: 0.8595\n"
     ]
    },
    {
     "name": "stdout",
     "output_type": "stream",
     "text": [
      "Epoch 45/200\n",
      "250/250 [==============================] - 0s 2ms/step - loss: 0.3718 - accuracy: 0.8399 - val_loss: 0.3507 - val_accuracy: 0.8580\n",
      "Epoch 46/200\n",
      "250/250 [==============================] - 0s 2ms/step - loss: 0.3728 - accuracy: 0.8450 - val_loss: 0.3508 - val_accuracy: 0.8605\n",
      "Epoch 47/200\n",
      "250/250 [==============================] - 0s 2ms/step - loss: 0.3737 - accuracy: 0.8435 - val_loss: 0.3502 - val_accuracy: 0.8605\n",
      "Epoch 48/200\n",
      "250/250 [==============================] - 0s 2ms/step - loss: 0.3688 - accuracy: 0.8425 - val_loss: 0.3508 - val_accuracy: 0.8575\n",
      "Epoch 49/200\n",
      "250/250 [==============================] - 0s 2ms/step - loss: 0.3680 - accuracy: 0.8418 - val_loss: 0.3526 - val_accuracy: 0.8580\n",
      "Epoch 50/200\n",
      "250/250 [==============================] - 0s 1ms/step - loss: 0.3712 - accuracy: 0.8456 - val_loss: 0.3509 - val_accuracy: 0.8585\n",
      "Epoch 51/200\n",
      "250/250 [==============================] - 0s 1ms/step - loss: 0.3700 - accuracy: 0.8457 - val_loss: 0.3506 - val_accuracy: 0.8590\n",
      "Epoch 52/200\n",
      "250/250 [==============================] - 0s 2ms/step - loss: 0.3664 - accuracy: 0.8484 - val_loss: 0.3510 - val_accuracy: 0.8520\n",
      "Epoch 53/200\n",
      "250/250 [==============================] - 0s 2ms/step - loss: 0.3638 - accuracy: 0.8504 - val_loss: 0.3511 - val_accuracy: 0.8605\n",
      "Epoch 54/200\n",
      "250/250 [==============================] - 0s 2ms/step - loss: 0.3710 - accuracy: 0.8445 - val_loss: 0.3498 - val_accuracy: 0.8570\n",
      "Epoch 55/200\n",
      "250/250 [==============================] - 0s 2ms/step - loss: 0.3732 - accuracy: 0.8434 - val_loss: 0.3497 - val_accuracy: 0.8565\n",
      "Epoch 56/200\n",
      "250/250 [==============================] - 1s 2ms/step - loss: 0.3707 - accuracy: 0.8457 - val_loss: 0.3493 - val_accuracy: 0.8575\n",
      "Epoch 57/200\n",
      "250/250 [==============================] - 0s 1ms/step - loss: 0.3658 - accuracy: 0.8487 - val_loss: 0.3492 - val_accuracy: 0.8600\n",
      "Epoch 58/200\n",
      "250/250 [==============================] - 0s 1ms/step - loss: 0.3680 - accuracy: 0.8469 - val_loss: 0.3514 - val_accuracy: 0.8610\n",
      "Epoch 59/200\n",
      "250/250 [==============================] - 0s 1ms/step - loss: 0.3729 - accuracy: 0.8418 - val_loss: 0.3504 - val_accuracy: 0.8600\n",
      "Epoch 60/200\n",
      "250/250 [==============================] - 0s 1ms/step - loss: 0.3724 - accuracy: 0.8419 - val_loss: 0.3504 - val_accuracy: 0.8565\n",
      "Epoch 61/200\n",
      "250/250 [==============================] - 0s 1ms/step - loss: 0.3693 - accuracy: 0.8485 - val_loss: 0.3498 - val_accuracy: 0.8585\n",
      "Epoch 62/200\n",
      "250/250 [==============================] - 0s 2ms/step - loss: 0.3642 - accuracy: 0.8464 - val_loss: 0.3498 - val_accuracy: 0.8585\n",
      "Epoch 63/200\n",
      "250/250 [==============================] - 0s 1ms/step - loss: 0.3701 - accuracy: 0.8446 - val_loss: 0.3484 - val_accuracy: 0.8590\n",
      "Epoch 64/200\n",
      "250/250 [==============================] - 0s 1ms/step - loss: 0.3747 - accuracy: 0.8431 - val_loss: 0.3491 - val_accuracy: 0.8600\n",
      "Epoch 65/200\n",
      "250/250 [==============================] - 0s 1ms/step - loss: 0.3663 - accuracy: 0.8465 - val_loss: 0.3481 - val_accuracy: 0.8560\n",
      "Epoch 66/200\n",
      "250/250 [==============================] - 0s 2ms/step - loss: 0.3685 - accuracy: 0.8471 - val_loss: 0.3479 - val_accuracy: 0.8560\n",
      "Epoch 67/200\n",
      "250/250 [==============================] - 0s 2ms/step - loss: 0.3678 - accuracy: 0.8493 - val_loss: 0.3497 - val_accuracy: 0.8580\n",
      "Epoch 68/200\n",
      "250/250 [==============================] - 1s 3ms/step - loss: 0.3676 - accuracy: 0.8434 - val_loss: 0.3481 - val_accuracy: 0.8575\n",
      "Epoch 69/200\n",
      "250/250 [==============================] - 0s 2ms/step - loss: 0.3718 - accuracy: 0.8435 - val_loss: 0.3491 - val_accuracy: 0.8605\n",
      "Epoch 70/200\n",
      "250/250 [==============================] - 0s 2ms/step - loss: 0.3693 - accuracy: 0.8486 - val_loss: 0.3481 - val_accuracy: 0.8590\n",
      "Epoch 71/200\n",
      "250/250 [==============================] - 1s 3ms/step - loss: 0.3696 - accuracy: 0.8480 - val_loss: 0.3478 - val_accuracy: 0.8590\n",
      "Epoch 72/200\n",
      "250/250 [==============================] - 0s 2ms/step - loss: 0.3629 - accuracy: 0.8519 - val_loss: 0.3467 - val_accuracy: 0.8600\n",
      "Epoch 73/200\n",
      "250/250 [==============================] - 1s 3ms/step - loss: 0.3726 - accuracy: 0.8435 - val_loss: 0.3487 - val_accuracy: 0.8615\n",
      "Epoch 74/200\n",
      "250/250 [==============================] - 1s 2ms/step - loss: 0.3656 - accuracy: 0.8440 - val_loss: 0.3491 - val_accuracy: 0.8555\n",
      "Epoch 75/200\n",
      "250/250 [==============================] - 1s 2ms/step - loss: 0.3689 - accuracy: 0.8421 - val_loss: 0.3484 - val_accuracy: 0.8585\n",
      "Epoch 76/200\n",
      "250/250 [==============================] - 1s 2ms/step - loss: 0.3656 - accuracy: 0.8434 - val_loss: 0.3489 - val_accuracy: 0.8600\n",
      "Epoch 77/200\n",
      "250/250 [==============================] - 1s 2ms/step - loss: 0.3651 - accuracy: 0.8482 - val_loss: 0.3471 - val_accuracy: 0.8565\n",
      "Epoch 78/200\n",
      "250/250 [==============================] - 1s 2ms/step - loss: 0.3602 - accuracy: 0.8480 - val_loss: 0.3489 - val_accuracy: 0.8600\n",
      "Epoch 79/200\n",
      "250/250 [==============================] - 1s 2ms/step - loss: 0.3638 - accuracy: 0.8497 - val_loss: 0.3487 - val_accuracy: 0.8620\n",
      "Epoch 80/200\n",
      "250/250 [==============================] - 1s 2ms/step - loss: 0.3661 - accuracy: 0.8495 - val_loss: 0.3462 - val_accuracy: 0.8590\n",
      "Epoch 81/200\n",
      "250/250 [==============================] - 1s 2ms/step - loss: 0.3655 - accuracy: 0.8482 - val_loss: 0.3457 - val_accuracy: 0.8610\n",
      "Epoch 82/200\n",
      "250/250 [==============================] - 1s 2ms/step - loss: 0.3675 - accuracy: 0.8486 - val_loss: 0.3471 - val_accuracy: 0.8610\n",
      "Epoch 83/200\n",
      "250/250 [==============================] - 1s 3ms/step - loss: 0.3665 - accuracy: 0.8475 - val_loss: 0.3467 - val_accuracy: 0.8615\n",
      "Epoch 84/200\n",
      "250/250 [==============================] - 0s 2ms/step - loss: 0.3644 - accuracy: 0.8479 - val_loss: 0.3464 - val_accuracy: 0.8605\n",
      "Epoch 85/200\n",
      "250/250 [==============================] - 0s 2ms/step - loss: 0.3670 - accuracy: 0.8446 - val_loss: 0.3464 - val_accuracy: 0.8600\n",
      "Epoch 86/200\n",
      "250/250 [==============================] - 0s 1ms/step - loss: 0.3645 - accuracy: 0.8440 - val_loss: 0.3453 - val_accuracy: 0.8595\n",
      "Epoch 87/200\n",
      "250/250 [==============================] - 0s 2ms/step - loss: 0.3676 - accuracy: 0.8476 - val_loss: 0.3468 - val_accuracy: 0.8615\n",
      "Epoch 88/200\n",
      "250/250 [==============================] - 0s 1ms/step - loss: 0.3730 - accuracy: 0.8443 - val_loss: 0.3463 - val_accuracy: 0.8585\n",
      "Epoch 89/200\n",
      "250/250 [==============================] - 0s 1ms/step - loss: 0.3655 - accuracy: 0.8454 - val_loss: 0.3460 - val_accuracy: 0.8590\n",
      "Epoch 90/200\n",
      "250/250 [==============================] - 0s 2ms/step - loss: 0.3644 - accuracy: 0.8449 - val_loss: 0.3456 - val_accuracy: 0.8600\n",
      "Epoch 91/200\n",
      "250/250 [==============================] - 0s 1ms/step - loss: 0.3619 - accuracy: 0.8490 - val_loss: 0.3449 - val_accuracy: 0.8580\n",
      "Epoch 92/200\n",
      "250/250 [==============================] - 0s 1ms/step - loss: 0.3653 - accuracy: 0.8465 - val_loss: 0.3469 - val_accuracy: 0.8600\n",
      "Epoch 93/200\n",
      "250/250 [==============================] - 0s 2ms/step - loss: 0.3670 - accuracy: 0.8450 - val_loss: 0.3476 - val_accuracy: 0.8590\n",
      "Epoch 94/200\n",
      "250/250 [==============================] - 0s 1ms/step - loss: 0.3604 - accuracy: 0.8495 - val_loss: 0.3462 - val_accuracy: 0.8625\n",
      "Epoch 95/200\n",
      "250/250 [==============================] - 0s 1ms/step - loss: 0.3646 - accuracy: 0.8487 - val_loss: 0.3463 - val_accuracy: 0.8600\n",
      "Epoch 96/200\n",
      "250/250 [==============================] - 0s 2ms/step - loss: 0.3626 - accuracy: 0.8504 - val_loss: 0.3473 - val_accuracy: 0.8605\n",
      "Epoch 97/200\n",
      "250/250 [==============================] - 0s 1ms/step - loss: 0.3633 - accuracy: 0.8456 - val_loss: 0.3454 - val_accuracy: 0.8590\n",
      "Epoch 98/200\n",
      "250/250 [==============================] - 0s 2ms/step - loss: 0.3633 - accuracy: 0.8462 - val_loss: 0.3455 - val_accuracy: 0.8600\n",
      "Epoch 99/200\n",
      "250/250 [==============================] - 0s 1ms/step - loss: 0.3639 - accuracy: 0.8453 - val_loss: 0.3444 - val_accuracy: 0.8585\n",
      "Epoch 100/200\n",
      "250/250 [==============================] - 0s 1ms/step - loss: 0.3643 - accuracy: 0.8469 - val_loss: 0.3463 - val_accuracy: 0.8615\n",
      "Epoch 101/200\n",
      "250/250 [==============================] - 0s 2ms/step - loss: 0.3615 - accuracy: 0.8519 - val_loss: 0.3450 - val_accuracy: 0.8525\n"
     ]
    },
    {
     "name": "stdout",
     "output_type": "stream",
     "text": [
      "Epoch 102/200\n",
      "250/250 [==============================] - 0s 1ms/step - loss: 0.3648 - accuracy: 0.8470 - val_loss: 0.3457 - val_accuracy: 0.8570\n",
      "Epoch 103/200\n",
      "250/250 [==============================] - 0s 1ms/step - loss: 0.3634 - accuracy: 0.8475 - val_loss: 0.3443 - val_accuracy: 0.8590\n",
      "Epoch 104/200\n",
      "250/250 [==============================] - 0s 1ms/step - loss: 0.3652 - accuracy: 0.8500 - val_loss: 0.3439 - val_accuracy: 0.8600\n",
      "Epoch 105/200\n",
      "250/250 [==============================] - 1s 2ms/step - loss: 0.3628 - accuracy: 0.8484 - val_loss: 0.3436 - val_accuracy: 0.8565\n",
      "Epoch 106/200\n",
      "250/250 [==============================] - 1s 2ms/step - loss: 0.3622 - accuracy: 0.8470 - val_loss: 0.3452 - val_accuracy: 0.8615\n",
      "Epoch 107/200\n",
      "250/250 [==============================] - 0s 2ms/step - loss: 0.3670 - accuracy: 0.8482 - val_loss: 0.3461 - val_accuracy: 0.8605\n",
      "Epoch 108/200\n",
      "250/250 [==============================] - 0s 2ms/step - loss: 0.3624 - accuracy: 0.8493 - val_loss: 0.3447 - val_accuracy: 0.8605\n",
      "Epoch 109/200\n",
      "250/250 [==============================] - 0s 2ms/step - loss: 0.3665 - accuracy: 0.8478 - val_loss: 0.3449 - val_accuracy: 0.8565\n",
      "Epoch 110/200\n",
      "250/250 [==============================] - 1s 3ms/step - loss: 0.3645 - accuracy: 0.8476 - val_loss: 0.3455 - val_accuracy: 0.8635\n",
      "Epoch 111/200\n",
      "250/250 [==============================] - 1s 2ms/step - loss: 0.3601 - accuracy: 0.8479 - val_loss: 0.3438 - val_accuracy: 0.8615\n",
      "Epoch 112/200\n",
      "250/250 [==============================] - 0s 1ms/step - loss: 0.3640 - accuracy: 0.8465 - val_loss: 0.3443 - val_accuracy: 0.8580\n",
      "Epoch 113/200\n",
      "250/250 [==============================] - 0s 1ms/step - loss: 0.3627 - accuracy: 0.8526 - val_loss: 0.3448 - val_accuracy: 0.8555\n",
      "Epoch 114/200\n",
      "250/250 [==============================] - 0s 2ms/step - loss: 0.3640 - accuracy: 0.8481 - val_loss: 0.3433 - val_accuracy: 0.8565\n",
      "Epoch 115/200\n",
      "250/250 [==============================] - 0s 1ms/step - loss: 0.3636 - accuracy: 0.8497 - val_loss: 0.3438 - val_accuracy: 0.8600\n",
      "Epoch 116/200\n",
      "250/250 [==============================] - 0s 1ms/step - loss: 0.3632 - accuracy: 0.8501 - val_loss: 0.3438 - val_accuracy: 0.8580\n",
      "Epoch 117/200\n",
      "250/250 [==============================] - 1s 2ms/step - loss: 0.3620 - accuracy: 0.8486 - val_loss: 0.3445 - val_accuracy: 0.8580\n",
      "Epoch 118/200\n",
      "250/250 [==============================] - 0s 2ms/step - loss: 0.3693 - accuracy: 0.8451 - val_loss: 0.3450 - val_accuracy: 0.8610\n",
      "Epoch 119/200\n",
      "250/250 [==============================] - 1s 2ms/step - loss: 0.3625 - accuracy: 0.8501 - val_loss: 0.3448 - val_accuracy: 0.8600\n",
      "Epoch 120/200\n",
      "250/250 [==============================] - 0s 2ms/step - loss: 0.3693 - accuracy: 0.8490 - val_loss: 0.3438 - val_accuracy: 0.8590\n",
      "Epoch 121/200\n",
      "250/250 [==============================] - 1s 2ms/step - loss: 0.3585 - accuracy: 0.8510 - val_loss: 0.3420 - val_accuracy: 0.8630\n",
      "Epoch 122/200\n",
      "250/250 [==============================] - 1s 2ms/step - loss: 0.3611 - accuracy: 0.8487 - val_loss: 0.3451 - val_accuracy: 0.8580\n",
      "Epoch 123/200\n",
      "250/250 [==============================] - 1s 3ms/step - loss: 0.3664 - accuracy: 0.8472 - val_loss: 0.3448 - val_accuracy: 0.8590\n",
      "Epoch 124/200\n",
      "250/250 [==============================] - 1s 2ms/step - loss: 0.3654 - accuracy: 0.8466 - val_loss: 0.3436 - val_accuracy: 0.8625\n",
      "Epoch 125/200\n",
      "250/250 [==============================] - 0s 1ms/step - loss: 0.3634 - accuracy: 0.8464 - val_loss: 0.3433 - val_accuracy: 0.8600\n",
      "Epoch 126/200\n",
      "250/250 [==============================] - 0s 2ms/step - loss: 0.3644 - accuracy: 0.8453 - val_loss: 0.3436 - val_accuracy: 0.8595\n",
      "Epoch 127/200\n",
      "250/250 [==============================] - 0s 1ms/step - loss: 0.3642 - accuracy: 0.8475 - val_loss: 0.3440 - val_accuracy: 0.8570\n",
      "Epoch 128/200\n",
      "250/250 [==============================] - 0s 1ms/step - loss: 0.3630 - accuracy: 0.8484 - val_loss: 0.3440 - val_accuracy: 0.8575\n",
      "Epoch 129/200\n",
      "250/250 [==============================] - 0s 1ms/step - loss: 0.3640 - accuracy: 0.8522 - val_loss: 0.3424 - val_accuracy: 0.8585\n",
      "Epoch 130/200\n",
      "250/250 [==============================] - 0s 2ms/step - loss: 0.3628 - accuracy: 0.8482 - val_loss: 0.3419 - val_accuracy: 0.8625\n",
      "Epoch 131/200\n",
      "250/250 [==============================] - 0s 1ms/step - loss: 0.3664 - accuracy: 0.8453 - val_loss: 0.3449 - val_accuracy: 0.8625\n",
      "Epoch 132/200\n",
      "250/250 [==============================] - 0s 2ms/step - loss: 0.3596 - accuracy: 0.8490 - val_loss: 0.3424 - val_accuracy: 0.8575\n",
      "Epoch 133/200\n",
      "250/250 [==============================] - 0s 1ms/step - loss: 0.3607 - accuracy: 0.8546 - val_loss: 0.3424 - val_accuracy: 0.8600\n",
      "Epoch 134/200\n",
      "250/250 [==============================] - 0s 1ms/step - loss: 0.3675 - accuracy: 0.8512 - val_loss: 0.3429 - val_accuracy: 0.8605\n",
      "Epoch 135/200\n",
      "250/250 [==============================] - 0s 2ms/step - loss: 0.3612 - accuracy: 0.8511 - val_loss: 0.3423 - val_accuracy: 0.8590\n",
      "Epoch 136/200\n",
      "250/250 [==============================] - 0s 1ms/step - loss: 0.3583 - accuracy: 0.8484 - val_loss: 0.3426 - val_accuracy: 0.8560\n",
      "Epoch 137/200\n",
      "250/250 [==============================] - 0s 1ms/step - loss: 0.3613 - accuracy: 0.8480 - val_loss: 0.3449 - val_accuracy: 0.8585\n",
      "Epoch 138/200\n",
      "250/250 [==============================] - 1s 2ms/step - loss: 0.3627 - accuracy: 0.8481 - val_loss: 0.3428 - val_accuracy: 0.8550\n",
      "Epoch 139/200\n",
      "250/250 [==============================] - 0s 2ms/step - loss: 0.3654 - accuracy: 0.8470 - val_loss: 0.3444 - val_accuracy: 0.8580\n",
      "Epoch 140/200\n",
      "250/250 [==============================] - 0s 2ms/step - loss: 0.3603 - accuracy: 0.8491 - val_loss: 0.3449 - val_accuracy: 0.8575\n",
      "Epoch 141/200\n",
      "250/250 [==============================] - 0s 2ms/step - loss: 0.3639 - accuracy: 0.8476 - val_loss: 0.3434 - val_accuracy: 0.8585\n",
      "Epoch 142/200\n",
      "250/250 [==============================] - 0s 2ms/step - loss: 0.3632 - accuracy: 0.8478 - val_loss: 0.3423 - val_accuracy: 0.8610\n",
      "Epoch 143/200\n",
      "250/250 [==============================] - 0s 1ms/step - loss: 0.3668 - accuracy: 0.8490 - val_loss: 0.3431 - val_accuracy: 0.8575\n",
      "Epoch 144/200\n",
      "250/250 [==============================] - 0s 2ms/step - loss: 0.3637 - accuracy: 0.8484 - val_loss: 0.3438 - val_accuracy: 0.8585\n",
      "Epoch 145/200\n",
      "250/250 [==============================] - 1s 3ms/step - loss: 0.3588 - accuracy: 0.8511 - val_loss: 0.3441 - val_accuracy: 0.8555\n",
      "Epoch 146/200\n",
      "250/250 [==============================] - 0s 2ms/step - loss: 0.3637 - accuracy: 0.8457 - val_loss: 0.3422 - val_accuracy: 0.8585\n",
      "Epoch 147/200\n",
      "250/250 [==============================] - 0s 2ms/step - loss: 0.3576 - accuracy: 0.8496 - val_loss: 0.3425 - val_accuracy: 0.8515\n",
      "Epoch 148/200\n",
      "250/250 [==============================] - 1s 2ms/step - loss: 0.3615 - accuracy: 0.8489 - val_loss: 0.3422 - val_accuracy: 0.8600\n",
      "Epoch 149/200\n",
      "250/250 [==============================] - 1s 2ms/step - loss: 0.3631 - accuracy: 0.8457 - val_loss: 0.3426 - val_accuracy: 0.8575\n",
      "Epoch 150/200\n",
      "250/250 [==============================] - 1s 2ms/step - loss: 0.3624 - accuracy: 0.8511 - val_loss: 0.3431 - val_accuracy: 0.8585\n",
      "Epoch 151/200\n",
      "250/250 [==============================] - 1s 2ms/step - loss: 0.3612 - accuracy: 0.8470 - val_loss: 0.3421 - val_accuracy: 0.8575\n",
      "Epoch 152/200\n",
      "250/250 [==============================] - 1s 3ms/step - loss: 0.3603 - accuracy: 0.8464 - val_loss: 0.3438 - val_accuracy: 0.8585\n",
      "Epoch 153/200\n",
      "250/250 [==============================] - 1s 3ms/step - loss: 0.3616 - accuracy: 0.8504 - val_loss: 0.3433 - val_accuracy: 0.8585\n",
      "Epoch 154/200\n",
      "250/250 [==============================] - 1s 3ms/step - loss: 0.3619 - accuracy: 0.8493 - val_loss: 0.3429 - val_accuracy: 0.8620\n",
      "Epoch 155/200\n",
      "250/250 [==============================] - 1s 2ms/step - loss: 0.3630 - accuracy: 0.8491 - val_loss: 0.3425 - val_accuracy: 0.8595\n",
      "Epoch 156/200\n",
      "250/250 [==============================] - 0s 2ms/step - loss: 0.3599 - accuracy: 0.8514 - val_loss: 0.3420 - val_accuracy: 0.8605\n",
      "Epoch 157/200\n",
      "250/250 [==============================] - 0s 2ms/step - loss: 0.3603 - accuracy: 0.8489 - val_loss: 0.3446 - val_accuracy: 0.8570\n",
      "Epoch 158/200\n"
     ]
    },
    {
     "name": "stdout",
     "output_type": "stream",
     "text": [
      "250/250 [==============================] - 1s 2ms/step - loss: 0.3630 - accuracy: 0.8487 - val_loss: 0.3433 - val_accuracy: 0.8575\n",
      "Epoch 159/200\n",
      "250/250 [==============================] - 0s 2ms/step - loss: 0.3585 - accuracy: 0.8480 - val_loss: 0.3436 - val_accuracy: 0.8580\n",
      "Epoch 160/200\n",
      "250/250 [==============================] - 0s 2ms/step - loss: 0.3609 - accuracy: 0.8457 - val_loss: 0.3434 - val_accuracy: 0.8605\n",
      "Epoch 161/200\n",
      "250/250 [==============================] - 0s 2ms/step - loss: 0.3609 - accuracy: 0.8493 - val_loss: 0.3435 - val_accuracy: 0.8645\n",
      "Epoch 162/200\n",
      "250/250 [==============================] - 0s 2ms/step - loss: 0.3594 - accuracy: 0.8472 - val_loss: 0.3418 - val_accuracy: 0.8570\n",
      "Epoch 163/200\n",
      "250/250 [==============================] - 0s 2ms/step - loss: 0.3616 - accuracy: 0.8495 - val_loss: 0.3417 - val_accuracy: 0.8575\n",
      "Epoch 164/200\n",
      "250/250 [==============================] - 0s 1ms/step - loss: 0.3613 - accuracy: 0.8476 - val_loss: 0.3418 - val_accuracy: 0.8630\n",
      "Epoch 165/200\n",
      "250/250 [==============================] - 0s 2ms/step - loss: 0.3632 - accuracy: 0.8443 - val_loss: 0.3409 - val_accuracy: 0.8610\n",
      "Epoch 166/200\n",
      "250/250 [==============================] - 0s 1ms/step - loss: 0.3629 - accuracy: 0.8489 - val_loss: 0.3395 - val_accuracy: 0.8610\n",
      "Epoch 167/200\n",
      "250/250 [==============================] - 0s 1ms/step - loss: 0.3600 - accuracy: 0.8491 - val_loss: 0.3409 - val_accuracy: 0.8600\n",
      "Epoch 168/200\n",
      "250/250 [==============================] - 0s 2ms/step - loss: 0.3608 - accuracy: 0.8472 - val_loss: 0.3423 - val_accuracy: 0.8635\n",
      "Epoch 169/200\n",
      "250/250 [==============================] - 0s 2ms/step - loss: 0.3598 - accuracy: 0.8509 - val_loss: 0.3412 - val_accuracy: 0.8605\n",
      "Epoch 170/200\n",
      "250/250 [==============================] - 0s 2ms/step - loss: 0.3695 - accuracy: 0.8451 - val_loss: 0.3439 - val_accuracy: 0.8605\n",
      "Epoch 171/200\n",
      "250/250 [==============================] - 0s 2ms/step - loss: 0.3596 - accuracy: 0.8508 - val_loss: 0.3434 - val_accuracy: 0.8565\n",
      "Epoch 172/200\n",
      "250/250 [==============================] - 0s 2ms/step - loss: 0.3589 - accuracy: 0.8505 - val_loss: 0.3420 - val_accuracy: 0.8580\n",
      "Epoch 173/200\n",
      "250/250 [==============================] - 0s 2ms/step - loss: 0.3592 - accuracy: 0.8487 - val_loss: 0.3390 - val_accuracy: 0.8620\n",
      "Epoch 174/200\n",
      "250/250 [==============================] - 1s 3ms/step - loss: 0.3612 - accuracy: 0.8533 - val_loss: 0.3398 - val_accuracy: 0.8580\n",
      "Epoch 175/200\n",
      "250/250 [==============================] - 0s 2ms/step - loss: 0.3627 - accuracy: 0.8461 - val_loss: 0.3412 - val_accuracy: 0.8575\n",
      "Epoch 176/200\n",
      "250/250 [==============================] - 0s 2ms/step - loss: 0.3598 - accuracy: 0.8478 - val_loss: 0.3415 - val_accuracy: 0.8625\n",
      "Epoch 177/200\n",
      "250/250 [==============================] - 0s 2ms/step - loss: 0.3569 - accuracy: 0.8560 - val_loss: 0.3411 - val_accuracy: 0.8595\n",
      "Epoch 178/200\n",
      "250/250 [==============================] - 0s 2ms/step - loss: 0.3652 - accuracy: 0.8468 - val_loss: 0.3427 - val_accuracy: 0.8615\n",
      "Epoch 179/200\n",
      "250/250 [==============================] - 1s 2ms/step - loss: 0.3610 - accuracy: 0.8522 - val_loss: 0.3435 - val_accuracy: 0.8630\n",
      "Epoch 180/200\n",
      "250/250 [==============================] - 1s 3ms/step - loss: 0.3596 - accuracy: 0.8503 - val_loss: 0.3415 - val_accuracy: 0.8620\n",
      "Epoch 181/200\n",
      "250/250 [==============================] - 0s 2ms/step - loss: 0.3597 - accuracy: 0.8536 - val_loss: 0.3425 - val_accuracy: 0.8615\n",
      "Epoch 182/200\n",
      "250/250 [==============================] - 0s 2ms/step - loss: 0.3644 - accuracy: 0.8484 - val_loss: 0.3430 - val_accuracy: 0.8615\n",
      "Epoch 183/200\n",
      "250/250 [==============================] - 1s 3ms/step - loss: 0.3648 - accuracy: 0.8478 - val_loss: 0.3410 - val_accuracy: 0.8605\n",
      "Epoch 184/200\n",
      "250/250 [==============================] - 1s 2ms/step - loss: 0.3633 - accuracy: 0.8486 - val_loss: 0.3429 - val_accuracy: 0.8575\n",
      "Epoch 185/200\n",
      "250/250 [==============================] - 1s 2ms/step - loss: 0.3613 - accuracy: 0.8480 - val_loss: 0.3431 - val_accuracy: 0.8615\n",
      "Epoch 186/200\n",
      "250/250 [==============================] - 0s 2ms/step - loss: 0.3617 - accuracy: 0.8496 - val_loss: 0.3408 - val_accuracy: 0.8570\n",
      "Epoch 187/200\n",
      "250/250 [==============================] - 1s 2ms/step - loss: 0.3593 - accuracy: 0.8506 - val_loss: 0.3436 - val_accuracy: 0.8635\n",
      "Epoch 188/200\n",
      "250/250 [==============================] - 0s 2ms/step - loss: 0.3687 - accuracy: 0.8435 - val_loss: 0.3429 - val_accuracy: 0.8620\n",
      "Epoch 189/200\n",
      "250/250 [==============================] - 0s 2ms/step - loss: 0.3598 - accuracy: 0.8500 - val_loss: 0.3425 - val_accuracy: 0.8640\n",
      "Epoch 190/200\n",
      "250/250 [==============================] - 1s 2ms/step - loss: 0.3583 - accuracy: 0.8475 - val_loss: 0.3416 - val_accuracy: 0.8605\n",
      "Epoch 191/200\n",
      "250/250 [==============================] - 1s 2ms/step - loss: 0.3589 - accuracy: 0.8490 - val_loss: 0.3426 - val_accuracy: 0.8625\n",
      "Epoch 192/200\n",
      "250/250 [==============================] - 0s 2ms/step - loss: 0.3620 - accuracy: 0.8496 - val_loss: 0.3422 - val_accuracy: 0.8625\n",
      "Epoch 193/200\n",
      "250/250 [==============================] - 0s 1ms/step - loss: 0.3582 - accuracy: 0.8515 - val_loss: 0.3399 - val_accuracy: 0.8650\n",
      "Epoch 194/200\n",
      "250/250 [==============================] - 1s 2ms/step - loss: 0.3610 - accuracy: 0.8501 - val_loss: 0.3436 - val_accuracy: 0.8640\n",
      "Epoch 195/200\n",
      "250/250 [==============================] - 0s 2ms/step - loss: 0.3635 - accuracy: 0.8478 - val_loss: 0.3424 - val_accuracy: 0.8645\n",
      "Epoch 196/200\n",
      "250/250 [==============================] - 0s 2ms/step - loss: 0.3586 - accuracy: 0.8521 - val_loss: 0.3425 - val_accuracy: 0.8645\n",
      "Epoch 197/200\n",
      "250/250 [==============================] - 0s 2ms/step - loss: 0.3620 - accuracy: 0.8472 - val_loss: 0.3411 - val_accuracy: 0.8595\n",
      "Epoch 198/200\n",
      "250/250 [==============================] - 0s 2ms/step - loss: 0.3601 - accuracy: 0.8474 - val_loss: 0.3408 - val_accuracy: 0.8630\n",
      "Epoch 199/200\n",
      "250/250 [==============================] - 0s 2ms/step - loss: 0.3579 - accuracy: 0.8533 - val_loss: 0.3397 - val_accuracy: 0.8625\n",
      "Epoch 200/200\n",
      "250/250 [==============================] - 0s 2ms/step - loss: 0.3618 - accuracy: 0.8545 - val_loss: 0.3429 - val_accuracy: 0.8635\n"
     ]
    }
   ],
   "source": [
    "# Model training\n",
    "history = model.fit(X_train_array, y_train_array, validation_data=(X_test_array, y_test_array),\n",
    "          epochs=200, batch_size = 32, verbose = 1)"
   ]
  },
  {
   "cell_type": "code",
   "execution_count": 34,
   "metadata": {},
   "outputs": [
    {
     "name": "stdout",
     "output_type": "stream",
     "text": [
      "dict_keys(['loss', 'accuracy', 'val_loss', 'val_accuracy'])\n"
     ]
    }
   ],
   "source": [
    "print(history.history.keys())"
   ]
  },
  {
   "cell_type": "code",
   "execution_count": 35,
   "metadata": {},
   "outputs": [
    {
     "data": {
      "image/png": "[encoded data removed]",
      "text/plain": [
       "<Figure size 1440x720 with 1 Axes>"
      ]
     },
     "metadata": {
      "needs_background": "light"
     },
     "output_type": "display_data"
    }
   ],
   "source": [
    "# summarize history for loss\n",
    "plt.figure(figsize=(20,10))\n",
    "plt.plot(history.history['loss'])\n",
    "plt.plot(history.history['val_loss'])\n",
    "plt.title('model loss')\n",
    "plt.ylabel('loss')\n",
    "plt.xlabel('epoch')\n",
    "plt.legend(['train', 'test'], loc='upper left')\n",
    "plt.show()"
   ]
  },
  {
   "cell_type": "code",
   "execution_count": 36,
   "metadata": {},
   "outputs": [
    {
     "data": {
      "image/png": "[encoded data removed]",
      "text/plain": [
       "<Figure size 1440x720 with 1 Axes>"
      ]
     },
     "metadata": {
      "needs_background": "light"
     },
     "output_type": "display_data"
    }
   ],
   "source": [
    "# summarize history for accuracy\n",
    "plt.figure(figsize=(20,10))\n",
    "plt.plot(history.history['accuracy'])\n",
    "plt.plot(history.history['val_accuracy'])\n",
    "plt.title('model accuracy')\n",
    "plt.ylabel('accuracy')\n",
    "plt.xlabel('epoch')\n",
    "plt.legend(['train', 'test'], loc='upper left')\n",
    "plt.show()"
   ]
  },
  {
   "cell_type": "markdown",
   "metadata": {},
   "source": [
    "### 7. Prediction at 0.5 Threshold\n",
    "Predict the results using 0.5 as a threshold (10 points)"
   ]
  },
  {
   "cell_type": "code",
   "execution_count": 37,
   "metadata": {},
   "outputs": [
    {
     "name": "stdout",
     "output_type": "stream",
     "text": [
      "WARNING:tensorflow:AutoGraph could not transform <function Model.make_predict_function.<locals>.predict_function at 0x7ff58b4b53b0> and will run it as-is.\n",
      "Please report this to the TensorFlow team. When filing the bug, set the verbosity to 10 (on Linux, `export AUTOGRAPH_VERBOSITY=10`) and attach the full output.\n",
      "Cause: 'arguments' object has no attribute 'posonlyargs'\n",
      "To silence this warning, decorate the function with @tf.autograph.experimental.do_not_convert\n",
      "WARNING: AutoGraph could not transform <function Model.make_predict_function.<locals>.predict_function at 0x7ff58b4b53b0> and will run it as-is.\n",
      "Please report this to the TensorFlow team. When filing the bug, set the verbosity to 10 (on Linux, `export AUTOGRAPH_VERBOSITY=10`) and attach the full output.\n",
      "Cause: 'arguments' object has no attribute 'posonlyargs'\n",
      "To silence this warning, decorate the function with @tf.autograph.experimental.do_not_convert\n"
     ]
    },
    {
     "data": {
      "text/plain": [
       "array([[0.63395107],\n",
       "       [0.04698139],\n",
       "       [0.0189988 ],\n",
       "       ...,\n",
       "       [0.10477912],\n",
       "       [0.15334103],\n",
       "       [0.08740941]], dtype=float32)"
      ]
     },
     "execution_count": 37,
     "metadata": {},
     "output_type": "execute_result"
    }
   ],
   "source": [
    "# Predicts gives the probability of each customer to churn or not\n",
    "model.predict(X_test_array)"
   ]
  },
  {
   "cell_type": "code",
   "execution_count": 38,
   "metadata": {},
   "outputs": [
    {
     "data": {
      "text/plain": [
       "array([[1],\n",
       "       [0],\n",
       "       [0],\n",
       "       ...,\n",
       "       [0],\n",
       "       [0],\n",
       "       [0]])"
      ]
     },
     "execution_count": 38,
     "metadata": {},
     "output_type": "execute_result"
    }
   ],
   "source": [
    "# This approach can set 0 or 1 for each class based on a predefined threshold\n",
    "threshold=0.5\n",
    "y_test_preds = np.where(model.predict(X_test_array) > threshold, 1, 0)\n",
    "y_test_preds"
   ]
  },
  {
   "cell_type": "code",
   "execution_count": 39,
   "metadata": {},
   "outputs": [
    {
     "name": "stdout",
     "output_type": "stream",
     "text": [
      "WARNING:tensorflow:From <ipython-input-39-429155466eea>:2: Sequential.predict_classes (from tensorflow.python.keras.engine.sequential) is deprecated and will be removed after 2021-01-01.\n",
      "Instructions for updating:\n",
      "Please use instead:* `np.argmax(model.predict(x), axis=-1)`,   if your model does multi-class classification   (e.g. if it uses a `softmax` last-layer activation).* `(model.predict(x) > 0.5).astype(\"int32\")`,   if your model does binary classification   (e.g. if it uses a `sigmoid` last-layer activation).\n",
      "63/63 [==============================] - 0s 2ms/step\n"
     ]
    },
    {
     "data": {
      "text/plain": [
       "array([[1],\n",
       "       [0],\n",
       "       [0],\n",
       "       ...,\n",
       "       [0],\n",
       "       [0],\n",
       "       [0]], dtype=int32)"
      ]
     },
     "execution_count": 39,
     "metadata": {},
     "output_type": "execute_result"
    }
   ],
   "source": [
    "# Alternatively, predict_classes by default has a threshold of 0.5\n",
    "y_pred_cls = model.predict_classes(X_test_array, batch_size=32, verbose=1)\n",
    "y_pred_cls"
   ]
  },
  {
   "cell_type": "markdown",
   "metadata": {},
   "source": [
    "### 8. Model Performance Evaluation\n",
    "Print the Accuracy score and confusion matrix (5 points)"
   ]
  },
  {
   "cell_type": "code",
   "execution_count": 40,
   "metadata": {},
   "outputs": [
    {
     "name": "stdout",
     "output_type": "stream",
     "text": [
      "63/63 [==============================] - 0s 1ms/step - loss: 0.3429 - accuracy: 0.8635\n"
     ]
    },
    {
     "data": {
      "text/plain": [
       "[0.34289422631263733, 0.8634999990463257]"
      ]
     },
     "execution_count": 40,
     "metadata": {},
     "output_type": "execute_result"
    }
   ],
   "source": [
    "model.evaluate(X_test,y_test_array)"
   ]
  },
  {
   "cell_type": "code",
   "execution_count": 41,
   "metadata": {},
   "outputs": [
    {
     "name": "stdout",
     "output_type": "stream",
     "text": [
      "Test Metrics at 0.5 Threshold with ANN model\n",
      "\n"
     ]
    },
    {
     "data": {
      "text/html": [
       "<div>\n",
       "<style scoped>\n",
       "    .dataframe tbody tr th:only-of-type {\n",
       "        vertical-align: middle;\n",
       "    }\n",
       "\n",
       "    .dataframe tbody tr th {\n",
       "        vertical-align: top;\n",
       "    }\n",
       "\n",
       "    .dataframe thead th {\n",
       "        text-align: right;\n",
       "    }\n",
       "</style>\n",
       "<table border=\"1\" class=\"dataframe\">\n",
       "  <thead>\n",
       "    <tr style=\"text-align: right;\">\n",
       "      <th></th>\n",
       "      <th>ANN</th>\n",
       "    </tr>\n",
       "  </thead>\n",
       "  <tbody>\n",
       "    <tr>\n",
       "      <th>accuracy</th>\n",
       "      <td>0.863500</td>\n",
       "    </tr>\n",
       "    <tr>\n",
       "      <th>recall</th>\n",
       "      <td>0.437956</td>\n",
       "    </tr>\n",
       "    <tr>\n",
       "      <th>precision</th>\n",
       "      <td>0.810811</td>\n",
       "    </tr>\n",
       "    <tr>\n",
       "      <th>f1_score</th>\n",
       "      <td>0.568720</td>\n",
       "    </tr>\n",
       "  </tbody>\n",
       "</table>\n",
       "</div>"
      ],
      "text/plain": [
       "                ANN\n",
       "accuracy   0.863500\n",
       "recall     0.437956\n",
       "precision  0.810811\n",
       "f1_score   0.568720"
      ]
     },
     "execution_count": 41,
     "metadata": {},
     "output_type": "execute_result"
    }
   ],
   "source": [
    "print('Test Metrics at 0.5 Threshold with ANN model\\n')\n",
    "metrics=pd.DataFrame(data=[\n",
    "    accuracy_score(y_test, y_test_preds),\n",
    "    recall_score(y_test, y_test_preds),\n",
    "    precision_score(y_test, y_test_preds),\n",
    "    f1_score(y_test, y_test_preds)],\n",
    "                          columns=['ANN'],\n",
    "                          index=[\"accuracy\", \"recall\", \"precision\", \"f1_score\"]\n",
    "                         )\n",
    "metrics\n",
    "#print(metrics)"
   ]
  },
  {
   "cell_type": "markdown",
   "metadata": {},
   "source": [
    "Given the problem statement, the cost of false negatives (i.e. improperly identifying a client as not likely to churn) is higher than false positives (i.e. improperly classifying a client to churn). Therefore, this case is about minimizing recall. "
   ]
  },
  {
   "cell_type": "code",
   "execution_count": 42,
   "metadata": {},
   "outputs": [
    {
     "data": {
      "text/plain": [
       "array([[1547,   42],\n",
       "       [ 231,  180]])"
      ]
     },
     "execution_count": 42,
     "metadata": {},
     "output_type": "execute_result"
    }
   ],
   "source": [
    "confusion_matrix(y_test_array, y_test_preds)"
   ]
  },
  {
   "cell_type": "code",
   "execution_count": 43,
   "metadata": {},
   "outputs": [
    {
     "data": {
      "image/png": "[encoded data removed]",
      "text/plain": [
       "<Figure size 432x288 with 2 Axes>"
      ]
     },
     "metadata": {
      "needs_background": "light"
     },
     "output_type": "display_data"
    }
   ],
   "source": [
    "cm=confusion_matrix(y_test_array, y_test_preds)\n",
    "sns.heatmap(cm, annot=True,fmt='d');"
   ]
  },
  {
   "cell_type": "code",
   "execution_count": null,
   "metadata": {},
   "outputs": [],
   "source": []
  }
 ],
 "metadata": {
  "kernelspec": {
   "display_name": "Python 3",
   "language": "python",
   "name": "python3"
  },
  "language_info": {
   "codemirror_mode": {
    "name": "ipython",
    "version": 3
   },
   "file_extension": ".py",
   "mimetype": "text/x-python",
   "name": "python",
   "nbconvert_exporter": "python",
   "pygments_lexer": "ipython3",
   "version": "3.7.7"
  }
 },
 "nbformat": 4,
 "nbformat_minor": 4
}
